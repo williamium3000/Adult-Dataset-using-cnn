{
 "cells": [
  {
   "cell_type": "code",
   "execution_count": 1,
   "metadata": {},
   "outputs": [
    {
     "name": "stderr",
     "output_type": "stream",
     "text": [
      "UsageError: Line magic function `%` not found.\n"
     ]
    }
   ],
   "source": [
    "import pandas as pd\n",
    "from IPython.display import Markdown, display\n",
    "from sklearn.model_selection import train_test_split\n",
    "import matplotlib.pyplot as plt\n",
    "from sklearn.metrics import roc_curve, auc\n",
    "import numpy as np\n",
    "from sklearn import metrics\n",
    "\n",
    "\n",
    "\n",
    "def printmd(string):\n",
    "    display(Markdown(string))\n",
    "    \n",
    "    \n",
    "from sklearn.linear_model import LogisticRegression\n",
    "from sklearn import svm\n",
    "from sklearn import tree\n",
    "from sklearn.ensemble import RandomForestClassifier\n",
    "from sklearn.neural_network import MLPClassifier\n",
    "from sklearn.ensemble import AdaBoostClassifier\n",
    "from sklearn.model_selection import cross_val_score\n",
    "\n",
    "from sklearn.metrics import accuracy_score\n",
    "from sklearn.metrics import roc_curve, auc\n",
    "from sklearn.preprocessing import label_binarize\n",
    "\n",
    "\n",
    "%  matplotlib inline"
   ]
  },
  {
   "cell_type": "code",
   "execution_count": 5,
   "metadata": {},
   "outputs": [],
   "source": [
    "#adult = pd.read_csv('adult.csv')\n",
    "\n",
    "column_names = ['age', 'workclass', 'fnlwgt', 'education', 'educational-num','marital-status', 'occupation', 'relationship', 'race', 'gender','capital-gain', 'capital-loss', 'hours-per-week', 'native-country','income']\n",
    "\n",
    "train = pd.read_csv('adult.data', sep=\",\\s\", header=None, names = column_names, engine = 'python')\n",
    "test = pd.read_csv('adult.test', sep=\",\\s\", header=None, names = column_names, engine = 'python')\n",
    "test['income'].replace(regex=True,inplace=True,to_replace=r'\\.',value=r'')\n",
    "\n",
    "\n",
    "adult = pd.concat([test,train])\n",
    "adult.reset_index(inplace = True, drop = True)"
   ]
  },
  {
   "cell_type": "markdown",
   "metadata": {},
   "source": [
    "---\n",
    "# 1. Preliminary Data Analysis"
   ]
  },
  {
   "cell_type": "code",
   "execution_count": 6,
   "metadata": {},
   "outputs": [
    {
     "data": {
      "text/markdown": [
       "## 1.1. Columns and their types"
      ],
      "text/plain": [
       "<IPython.core.display.Markdown object>"
      ]
     },
     "metadata": {},
     "output_type": "display_data"
    },
    {
     "name": "stdout",
     "output_type": "stream",
     "text": [
      "<class 'pandas.core.frame.DataFrame'>\n",
      "RangeIndex: 48843 entries, 0 to 48842\n",
      "Data columns (total 15 columns):\n",
      " #   Column           Non-Null Count  Dtype   \n",
      "---  ------           --------------  -----   \n",
      " 0   age              48843 non-null  category\n",
      " 1   workclass        48842 non-null  category\n",
      " 2   fnlwgt           48842 non-null  float64 \n",
      " 3   education        48842 non-null  category\n",
      " 4   educational-num  48842 non-null  float64 \n",
      " 5   marital-status   48842 non-null  category\n",
      " 6   occupation       48842 non-null  category\n",
      " 7   relationship     48842 non-null  category\n",
      " 8   race             48842 non-null  category\n",
      " 9   gender           48842 non-null  category\n",
      " 10  capital-gain     48842 non-null  float64 \n",
      " 11  capital-loss     48842 non-null  float64 \n",
      " 12  hours-per-week   48842 non-null  float64 \n",
      " 13  native-country   48842 non-null  category\n",
      " 14  income           48842 non-null  category\n",
      "dtypes: category(10), float64(5)\n",
      "memory usage: 2.4 MB\n",
      "None\n"
     ]
    }
   ],
   "source": [
    "# Setting all the categorical columns to type category\n",
    "for col in set(adult.columns) - set(adult.describe().columns):\n",
    "    adult[col] = adult[col].astype('category')\n",
    "    \n",
    "printmd('## 1.1. Columns and their types')\n",
    "print(adult.info())"
   ]
  },
  {
   "cell_type": "code",
   "execution_count": 7,
   "metadata": {},
   "outputs": [
    {
     "data": {
      "text/markdown": [
       "## 1.2. Data"
      ],
      "text/plain": [
       "<IPython.core.display.Markdown object>"
      ]
     },
     "metadata": {},
     "output_type": "display_data"
    },
    {
     "data": {
      "text/html": [
       "<div>\n",
       "<style scoped>\n",
       "    .dataframe tbody tr th:only-of-type {\n",
       "        vertical-align: middle;\n",
       "    }\n",
       "\n",
       "    .dataframe tbody tr th {\n",
       "        vertical-align: top;\n",
       "    }\n",
       "\n",
       "    .dataframe thead th {\n",
       "        text-align: right;\n",
       "    }\n",
       "</style>\n",
       "<table border=\"1\" class=\"dataframe\">\n",
       "  <thead>\n",
       "    <tr style=\"text-align: right;\">\n",
       "      <th></th>\n",
       "      <th>age</th>\n",
       "      <th>workclass</th>\n",
       "      <th>fnlwgt</th>\n",
       "      <th>education</th>\n",
       "      <th>educational-num</th>\n",
       "      <th>marital-status</th>\n",
       "      <th>occupation</th>\n",
       "      <th>relationship</th>\n",
       "      <th>race</th>\n",
       "      <th>gender</th>\n",
       "      <th>capital-gain</th>\n",
       "      <th>capital-loss</th>\n",
       "      <th>hours-per-week</th>\n",
       "      <th>native-country</th>\n",
       "      <th>income</th>\n",
       "    </tr>\n",
       "  </thead>\n",
       "  <tbody>\n",
       "    <tr>\n",
       "      <th>0</th>\n",
       "      <td>|1x3 Cross validator</td>\n",
       "      <td>NaN</td>\n",
       "      <td>NaN</td>\n",
       "      <td>NaN</td>\n",
       "      <td>NaN</td>\n",
       "      <td>NaN</td>\n",
       "      <td>NaN</td>\n",
       "      <td>NaN</td>\n",
       "      <td>NaN</td>\n",
       "      <td>NaN</td>\n",
       "      <td>NaN</td>\n",
       "      <td>NaN</td>\n",
       "      <td>NaN</td>\n",
       "      <td>NaN</td>\n",
       "      <td>NaN</td>\n",
       "    </tr>\n",
       "    <tr>\n",
       "      <th>1</th>\n",
       "      <td>25</td>\n",
       "      <td>Private</td>\n",
       "      <td>226802.0</td>\n",
       "      <td>11th</td>\n",
       "      <td>7.0</td>\n",
       "      <td>Never-married</td>\n",
       "      <td>Machine-op-inspct</td>\n",
       "      <td>Own-child</td>\n",
       "      <td>Black</td>\n",
       "      <td>Male</td>\n",
       "      <td>0.0</td>\n",
       "      <td>0.0</td>\n",
       "      <td>40.0</td>\n",
       "      <td>United-States</td>\n",
       "      <td>&lt;=50K</td>\n",
       "    </tr>\n",
       "    <tr>\n",
       "      <th>2</th>\n",
       "      <td>38</td>\n",
       "      <td>Private</td>\n",
       "      <td>89814.0</td>\n",
       "      <td>HS-grad</td>\n",
       "      <td>9.0</td>\n",
       "      <td>Married-civ-spouse</td>\n",
       "      <td>Farming-fishing</td>\n",
       "      <td>Husband</td>\n",
       "      <td>White</td>\n",
       "      <td>Male</td>\n",
       "      <td>0.0</td>\n",
       "      <td>0.0</td>\n",
       "      <td>50.0</td>\n",
       "      <td>United-States</td>\n",
       "      <td>&lt;=50K</td>\n",
       "    </tr>\n",
       "    <tr>\n",
       "      <th>3</th>\n",
       "      <td>28</td>\n",
       "      <td>Local-gov</td>\n",
       "      <td>336951.0</td>\n",
       "      <td>Assoc-acdm</td>\n",
       "      <td>12.0</td>\n",
       "      <td>Married-civ-spouse</td>\n",
       "      <td>Protective-serv</td>\n",
       "      <td>Husband</td>\n",
       "      <td>White</td>\n",
       "      <td>Male</td>\n",
       "      <td>0.0</td>\n",
       "      <td>0.0</td>\n",
       "      <td>40.0</td>\n",
       "      <td>United-States</td>\n",
       "      <td>&gt;50K</td>\n",
       "    </tr>\n",
       "    <tr>\n",
       "      <th>4</th>\n",
       "      <td>44</td>\n",
       "      <td>Private</td>\n",
       "      <td>160323.0</td>\n",
       "      <td>Some-college</td>\n",
       "      <td>10.0</td>\n",
       "      <td>Married-civ-spouse</td>\n",
       "      <td>Machine-op-inspct</td>\n",
       "      <td>Husband</td>\n",
       "      <td>Black</td>\n",
       "      <td>Male</td>\n",
       "      <td>7688.0</td>\n",
       "      <td>0.0</td>\n",
       "      <td>40.0</td>\n",
       "      <td>United-States</td>\n",
       "      <td>&gt;50K</td>\n",
       "    </tr>\n",
       "  </tbody>\n",
       "</table>\n",
       "</div>"
      ],
      "text/plain": [
       "                    age  workclass    fnlwgt     education  educational-num  \\\n",
       "0  |1x3 Cross validator        NaN       NaN           NaN              NaN   \n",
       "1                    25    Private  226802.0          11th              7.0   \n",
       "2                    38    Private   89814.0       HS-grad              9.0   \n",
       "3                    28  Local-gov  336951.0    Assoc-acdm             12.0   \n",
       "4                    44    Private  160323.0  Some-college             10.0   \n",
       "\n",
       "       marital-status         occupation relationship   race gender  \\\n",
       "0                 NaN                NaN          NaN    NaN    NaN   \n",
       "1       Never-married  Machine-op-inspct    Own-child  Black   Male   \n",
       "2  Married-civ-spouse    Farming-fishing      Husband  White   Male   \n",
       "3  Married-civ-spouse    Protective-serv      Husband  White   Male   \n",
       "4  Married-civ-spouse  Machine-op-inspct      Husband  Black   Male   \n",
       "\n",
       "   capital-gain  capital-loss  hours-per-week native-country income  \n",
       "0           NaN           NaN             NaN            NaN    NaN  \n",
       "1           0.0           0.0            40.0  United-States  <=50K  \n",
       "2           0.0           0.0            50.0  United-States  <=50K  \n",
       "3           0.0           0.0            40.0  United-States   >50K  \n",
       "4        7688.0           0.0            40.0  United-States   >50K  "
      ]
     },
     "execution_count": 7,
     "metadata": {},
     "output_type": "execute_result"
    }
   ],
   "source": [
    "# Top 5 records\n",
    "printmd('## 1.2. Data')\n",
    "adult.head()"
   ]
  },
  {
   "cell_type": "code",
   "execution_count": 8,
   "metadata": {
    "scrolled": false
   },
   "outputs": [
    {
     "data": {
      "text/markdown": [
       "## 1.3. Summary Statistics"
      ],
      "text/plain": [
       "<IPython.core.display.Markdown object>"
      ]
     },
     "metadata": {},
     "output_type": "display_data"
    },
    {
     "data": {
      "text/html": [
       "<div>\n",
       "<style scoped>\n",
       "    .dataframe tbody tr th:only-of-type {\n",
       "        vertical-align: middle;\n",
       "    }\n",
       "\n",
       "    .dataframe tbody tr th {\n",
       "        vertical-align: top;\n",
       "    }\n",
       "\n",
       "    .dataframe thead th {\n",
       "        text-align: right;\n",
       "    }\n",
       "</style>\n",
       "<table border=\"1\" class=\"dataframe\">\n",
       "  <thead>\n",
       "    <tr style=\"text-align: right;\">\n",
       "      <th></th>\n",
       "      <th>fnlwgt</th>\n",
       "      <th>educational-num</th>\n",
       "      <th>capital-gain</th>\n",
       "      <th>capital-loss</th>\n",
       "      <th>hours-per-week</th>\n",
       "    </tr>\n",
       "  </thead>\n",
       "  <tbody>\n",
       "    <tr>\n",
       "      <th>count</th>\n",
       "      <td>4.884200e+04</td>\n",
       "      <td>48842.000000</td>\n",
       "      <td>48842.000000</td>\n",
       "      <td>48842.000000</td>\n",
       "      <td>48842.000000</td>\n",
       "    </tr>\n",
       "    <tr>\n",
       "      <th>mean</th>\n",
       "      <td>1.896641e+05</td>\n",
       "      <td>10.078089</td>\n",
       "      <td>1079.067626</td>\n",
       "      <td>87.502314</td>\n",
       "      <td>40.422382</td>\n",
       "    </tr>\n",
       "    <tr>\n",
       "      <th>std</th>\n",
       "      <td>1.056040e+05</td>\n",
       "      <td>2.570973</td>\n",
       "      <td>7452.019058</td>\n",
       "      <td>403.004552</td>\n",
       "      <td>12.391444</td>\n",
       "    </tr>\n",
       "    <tr>\n",
       "      <th>min</th>\n",
       "      <td>1.228500e+04</td>\n",
       "      <td>1.000000</td>\n",
       "      <td>0.000000</td>\n",
       "      <td>0.000000</td>\n",
       "      <td>1.000000</td>\n",
       "    </tr>\n",
       "    <tr>\n",
       "      <th>25%</th>\n",
       "      <td>1.175505e+05</td>\n",
       "      <td>9.000000</td>\n",
       "      <td>0.000000</td>\n",
       "      <td>0.000000</td>\n",
       "      <td>40.000000</td>\n",
       "    </tr>\n",
       "    <tr>\n",
       "      <th>50%</th>\n",
       "      <td>1.781445e+05</td>\n",
       "      <td>10.000000</td>\n",
       "      <td>0.000000</td>\n",
       "      <td>0.000000</td>\n",
       "      <td>40.000000</td>\n",
       "    </tr>\n",
       "    <tr>\n",
       "      <th>75%</th>\n",
       "      <td>2.376420e+05</td>\n",
       "      <td>12.000000</td>\n",
       "      <td>0.000000</td>\n",
       "      <td>0.000000</td>\n",
       "      <td>45.000000</td>\n",
       "    </tr>\n",
       "    <tr>\n",
       "      <th>max</th>\n",
       "      <td>1.490400e+06</td>\n",
       "      <td>16.000000</td>\n",
       "      <td>99999.000000</td>\n",
       "      <td>4356.000000</td>\n",
       "      <td>99.000000</td>\n",
       "    </tr>\n",
       "  </tbody>\n",
       "</table>\n",
       "</div>"
      ],
      "text/plain": [
       "             fnlwgt  educational-num  capital-gain  capital-loss  \\\n",
       "count  4.884200e+04     48842.000000  48842.000000  48842.000000   \n",
       "mean   1.896641e+05        10.078089   1079.067626     87.502314   \n",
       "std    1.056040e+05         2.570973   7452.019058    403.004552   \n",
       "min    1.228500e+04         1.000000      0.000000      0.000000   \n",
       "25%    1.175505e+05         9.000000      0.000000      0.000000   \n",
       "50%    1.781445e+05        10.000000      0.000000      0.000000   \n",
       "75%    2.376420e+05        12.000000      0.000000      0.000000   \n",
       "max    1.490400e+06        16.000000  99999.000000   4356.000000   \n",
       "\n",
       "       hours-per-week  \n",
       "count    48842.000000  \n",
       "mean        40.422382  \n",
       "std         12.391444  \n",
       "min          1.000000  \n",
       "25%         40.000000  \n",
       "50%         40.000000  \n",
       "75%         45.000000  \n",
       "max         99.000000  "
      ]
     },
     "execution_count": 8,
     "metadata": {},
     "output_type": "execute_result"
    }
   ],
   "source": [
    "printmd('## 1.3. Summary Statistics')\n",
    "\n",
    "adult.describe()"
   ]
  },
  {
   "cell_type": "code",
   "execution_count": 9,
   "metadata": {},
   "outputs": [
    {
     "data": {
      "text/markdown": [
       "## 1.4. Missing values"
      ],
      "text/plain": [
       "<IPython.core.display.Markdown object>"
      ]
     },
     "metadata": {},
     "output_type": "display_data"
    },
    {
     "data": {
      "text/markdown": [
       "workclass: 2799 records"
      ],
      "text/plain": [
       "<IPython.core.display.Markdown object>"
      ]
     },
     "metadata": {},
     "output_type": "display_data"
    },
    {
     "data": {
      "text/markdown": [
       "occupation: 2809 records"
      ],
      "text/plain": [
       "<IPython.core.display.Markdown object>"
      ]
     },
     "metadata": {},
     "output_type": "display_data"
    },
    {
     "data": {
      "text/markdown": [
       "native-country: 857 records"
      ],
      "text/plain": [
       "<IPython.core.display.Markdown object>"
      ]
     },
     "metadata": {},
     "output_type": "display_data"
    }
   ],
   "source": [
    "printmd('## 1.4. Missing values')\n",
    "for i,j in zip(adult.columns,(adult.values.astype(str) == '?').sum(axis = 0)):\n",
    "    if j > 0:\n",
    "        printmd(str(i) + ': ' + str(j) + ' records')\n",
    "\n"
   ]
  },
  {
   "cell_type": "markdown",
   "metadata": {},
   "source": [
    "### Treating Missing Values by predicting them\n",
    "\n",
    "I fill the missing values in each of the three columns by predicting their values. For each of the three columns, I use all the attributes (including 'income') as independent variables and treat that column as the dependent variable, making it a multi-class classification task. I use three classification algorithms, namely, logistic regression, decision trees and random forest to predict the class when the value is missing (in this case a '?'). I then take a majority vote amongst the three classifiers to be the class of the missing value. In case of a tie, I pick the majority class of that column using the entire dataset."
   ]
  },
  {
   "cell_type": "code",
   "execution_count": 10,
   "metadata": {},
   "outputs": [],
   "source": [
    "# Create one hot encoding of the categorical columns in the data frame.\n",
    "def oneHotCatVars(df, df_cols):\n",
    "    \n",
    "    df_1 = adult_data = df.drop(columns = df_cols, axis = 1)\n",
    "    df_2 = pd.get_dummies(df[df_cols])\n",
    "    \n",
    "    return (pd.concat([df_1, df_2], axis=1, join='inner'))"
   ]
  },
  {
   "cell_type": "code",
   "execution_count": 11,
   "metadata": {},
   "outputs": [
    {
     "data": {
      "text/markdown": [
       "### 1.4.1. Filling in missing values for Attribute workclass"
      ],
      "text/plain": [
       "<IPython.core.display.Markdown object>"
      ]
     },
     "metadata": {},
     "output_type": "display_data"
    },
    {
     "name": "stderr",
     "output_type": "stream",
     "text": [
      "/Applications/anaconda3/envs/pytorch/lib/python3.8/site-packages/sklearn/linear_model/_logistic.py:762: ConvergenceWarning: lbfgs failed to converge (status=1):\n",
      "STOP: TOTAL NO. of ITERATIONS REACHED LIMIT.\n",
      "\n",
      "Increase the number of iterations (max_iter) or scale the data as shown in:\n",
      "    https://scikit-learn.org/stable/modules/preprocessing.html\n",
      "Please also refer to the documentation for alternative solver options:\n",
      "    https://scikit-learn.org/stable/modules/linear_model.html#logistic-regression\n",
      "  n_iter_i = _check_optimize_result(\n"
     ]
    },
    {
     "name": "stdout",
     "output_type": "stream",
     "text": [
      "Private             35899\n",
      "Self-emp-not-inc     3872\n",
      "Local-gov            3137\n",
      "State-gov            1981\n",
      "Self-emp-inc         1695\n",
      "Federal-gov          1432\n",
      "Never-worked          805\n",
      "Without-pay            21\n",
      "?                       0\n",
      "Name: workclass, dtype: int64\n",
      "[NaN, 'Private', 'Local-gov', 'Never-worked', 'Self-emp-not-inc', 'Federal-gov', 'State-gov', 'Self-emp-inc', 'Without-pay']\n",
      "Categories (8, object): ['Private', 'Local-gov', 'Never-worked', 'Self-emp-not-inc', 'Federal-gov', 'State-gov', 'Self-emp-inc', 'Without-pay']\n"
     ]
    }
   ],
   "source": [
    "printmd('### 1.4.1. Filling in missing values for Attribute workclass')\n",
    "\n",
    "test_data = adult[(adult.workclass.values == '?')].copy()\n",
    "test_label = test_data.workclass\n",
    "\n",
    "train_data = adult[(adult.workclass.values != '?')].copy()\n",
    "train_label = train_data.workclass\n",
    "\n",
    "test_data.drop(columns = ['workclass'], inplace = True)\n",
    "train_data.drop(columns = ['workclass'], inplace = True)\n",
    "\n",
    "train_data = oneHotCatVars(train_data, train_data.select_dtypes('category').columns)\n",
    "test_data = oneHotCatVars(test_data, test_data.select_dtypes('category').columns)\n",
    "\n",
    "log_reg = LogisticRegression()\n",
    "log_reg.fit(train_data, train_label)\n",
    "log_reg_pred = log_reg.predict(test_data)\n",
    "\n",
    "\n",
    "clf = tree.DecisionTreeClassifier()\n",
    "clf = clf.fit(train_data, train_label)\n",
    "clf_pred = clf.predict(test_data)\n",
    "\n",
    "r_forest = RandomForestClassifier(n_estimators=10)\n",
    "r_forest.fit(train_data, train_label)\n",
    "r_forest_pred = r_forest.predict(test_data)\n",
    "\n",
    "majority_class = adult.workclass.value_counts().index[0]\n",
    "\n",
    "pred_df =  pd.DataFrame({'RFor': r_forest_pred, 'DTree' : clf_pred, 'LogReg' : log_reg_pred})\n",
    "overall_pred = pred_df.apply(lambda x: x.value_counts().index[0] if x.value_counts()[0] > 1 else majority_class, axis = 1)\n",
    "\n",
    "adult.loc[(adult.workclass.values == '?'),'workclass'] = overall_pred.values\n",
    "print(adult.workclass.value_counts())\n",
    "print(adult.workclass.unique())"
   ]
  },
  {
   "cell_type": "code",
   "execution_count": 12,
   "metadata": {},
   "outputs": [
    {
     "data": {
      "text/markdown": [
       "### 1.4.2. Filling in missing values for Occupation occupation"
      ],
      "text/plain": [
       "<IPython.core.display.Markdown object>"
      ]
     },
     "metadata": {},
     "output_type": "display_data"
    },
    {
     "name": "stderr",
     "output_type": "stream",
     "text": [
      "/Applications/anaconda3/envs/pytorch/lib/python3.8/site-packages/sklearn/linear_model/_logistic.py:762: ConvergenceWarning: lbfgs failed to converge (status=1):\n",
      "STOP: TOTAL NO. of ITERATIONS REACHED LIMIT.\n",
      "\n",
      "Increase the number of iterations (max_iter) or scale the data as shown in:\n",
      "    https://scikit-learn.org/stable/modules/preprocessing.html\n",
      "Please also refer to the documentation for alternative solver options:\n",
      "    https://scikit-learn.org/stable/modules/linear_model.html#logistic-regression\n",
      "  n_iter_i = _check_optimize_result(\n"
     ]
    },
    {
     "name": "stdout",
     "output_type": "stream",
     "text": [
      "Prof-specialty       7658\n",
      "Craft-repair         6682\n",
      "Exec-managerial      6151\n",
      "Adm-clerical         5845\n",
      "Sales                5583\n",
      "Other-service        5144\n",
      "Machine-op-inspct    3070\n",
      "Transport-moving     2390\n",
      "Handlers-cleaners    2097\n",
      "Farming-fishing      1511\n",
      "Tech-support         1458\n",
      "Protective-serv       991\n",
      "Priv-house-serv       247\n",
      "Armed-Forces           15\n",
      "?                       0\n",
      "Name: occupation, dtype: int64\n",
      "[NaN, 'Machine-op-inspct', 'Farming-fishing', 'Protective-serv', 'Prof-specialty', ..., 'Tech-support', 'Sales', 'Priv-house-serv', 'Transport-moving', 'Armed-Forces']\n",
      "Length: 15\n",
      "Categories (14, object): ['Machine-op-inspct', 'Farming-fishing', 'Protective-serv', 'Prof-specialty', ..., 'Sales', 'Priv-house-serv', 'Transport-moving', 'Armed-Forces']\n"
     ]
    }
   ],
   "source": [
    "printmd('### 1.4.2. Filling in missing values for Occupation occupation')\n",
    "\n",
    "test_data = adult[(adult.occupation.values == '?')].copy()\n",
    "test_label = test_data.occupation\n",
    "\n",
    "train_data = adult[(adult.occupation.values != '?')].copy()\n",
    "train_label = train_data.occupation\n",
    "\n",
    "test_data.drop(columns = ['occupation'], inplace = True)\n",
    "train_data.drop(columns = ['occupation'], inplace = True)\n",
    "\n",
    "train_data = oneHotCatVars(train_data, train_data.select_dtypes('category').columns)\n",
    "test_data = oneHotCatVars(test_data, test_data.select_dtypes('category').columns)\n",
    "\n",
    "log_reg = LogisticRegression()\n",
    "log_reg.fit(train_data, train_label)\n",
    "log_reg_pred = log_reg.predict(test_data)\n",
    "\n",
    "\n",
    "clf = tree.DecisionTreeClassifier()\n",
    "clf = clf.fit(train_data, train_label)\n",
    "clf_pred = clf.predict(test_data)\n",
    "\n",
    "r_forest = RandomForestClassifier(n_estimators=10)\n",
    "r_forest.fit(train_data, train_label)\n",
    "r_forest_pred = r_forest.predict(test_data)\n",
    "\n",
    "\n",
    "majority_class = adult.occupation.value_counts().index[0]\n",
    "\n",
    "pred_df =  pd.DataFrame({'RFor': r_forest_pred, 'DTree' : clf_pred, 'LogReg' : log_reg_pred})\n",
    "overall_pred = pred_df.apply(lambda x: x.value_counts().index[0] if x.value_counts()[0] > 1 else majority_class, axis = 1)\n",
    "\n",
    "adult.loc[(adult.occupation.values == '?'),'occupation'] = overall_pred.values\n",
    "print(adult.occupation.value_counts())\n",
    "print(adult.occupation.unique())"
   ]
  },
  {
   "cell_type": "code",
   "execution_count": 13,
   "metadata": {},
   "outputs": [
    {
     "data": {
      "text/markdown": [
       "### 1.4.3. Filling in missing values for Native Country"
      ],
      "text/plain": [
       "<IPython.core.display.Markdown object>"
      ]
     },
     "metadata": {},
     "output_type": "display_data"
    },
    {
     "name": "stderr",
     "output_type": "stream",
     "text": [
      "/Applications/anaconda3/envs/pytorch/lib/python3.8/site-packages/sklearn/linear_model/_logistic.py:762: ConvergenceWarning: lbfgs failed to converge (status=1):\n",
      "STOP: TOTAL NO. of ITERATIONS REACHED LIMIT.\n",
      "\n",
      "Increase the number of iterations (max_iter) or scale the data as shown in:\n",
      "    https://scikit-learn.org/stable/modules/preprocessing.html\n",
      "Please also refer to the documentation for alternative solver options:\n",
      "    https://scikit-learn.org/stable/modules/linear_model.html#logistic-regression\n",
      "  n_iter_i = _check_optimize_result(\n"
     ]
    },
    {
     "name": "stdout",
     "output_type": "stream",
     "text": [
      "United-States                 44659\n",
      "Mexico                          954\n",
      "Philippines                     301\n",
      "Germany                         206\n",
      "Puerto-Rico                     184\n",
      "Canada                          182\n",
      "India                           156\n",
      "El-Salvador                     155\n",
      "Cuba                            138\n",
      "England                         127\n",
      "China                           127\n",
      "South                           119\n",
      "Jamaica                         106\n",
      "Italy                           105\n",
      "Dominican-Republic              104\n",
      "Japan                            93\n",
      "Guatemala                        89\n",
      "Poland                           87\n",
      "Vietnam                          86\n",
      "Columbia                         85\n",
      "Haiti                            75\n",
      "Taiwan                           68\n",
      "Portugal                         67\n",
      "Iran                             60\n",
      "Greece                           49\n",
      "Nicaragua                        49\n",
      "Peru                             46\n",
      "Ecuador                          45\n",
      "France                           38\n",
      "Ireland                          37\n",
      "Hong                             30\n",
      "Thailand                         30\n",
      "Cambodia                         28\n",
      "Trinadad&Tobago                  27\n",
      "Yugoslavia                       23\n",
      "Laos                             23\n",
      "Outlying-US(Guam-USVI-etc)       23\n",
      "Scotland                         21\n",
      "Honduras                         20\n",
      "Hungary                          19\n",
      "Holand-Netherlands                1\n",
      "?                                 0\n",
      "Name: native-country, dtype: int64\n",
      "[NaN, 'United-States', 'India', 'Peru', 'Guatemala', ..., 'Greece', 'Trinadad&Tobago', 'Outlying-US(Guam-USVI-etc)', 'France', 'Holand-Netherlands']\n",
      "Length: 42\n",
      "Categories (41, object): ['United-States', 'India', 'Peru', 'Guatemala', ..., 'Trinadad&Tobago', 'Outlying-US(Guam-USVI-etc)', 'France', 'Holand-Netherlands']\n"
     ]
    }
   ],
   "source": [
    "printmd('### 1.4.3. Filling in missing values for Native Country')\n",
    "\n",
    "test_data = adult[(adult['native-country'].values == '?')].copy()\n",
    "test_label = test_data['native-country']\n",
    "\n",
    "train_data = adult[(adult['native-country'].values != '?')].copy()\n",
    "train_label = train_data['native-country']\n",
    "\n",
    "test_data.drop(columns = ['native-country'], inplace = True)\n",
    "train_data.drop(columns = ['native-country'], inplace = True)\n",
    "\n",
    "train_data = oneHotCatVars(train_data, train_data.select_dtypes('category').columns)\n",
    "test_data = oneHotCatVars(test_data, test_data.select_dtypes('category').columns)\n",
    "\n",
    "log_reg = LogisticRegression()\n",
    "log_reg.fit(train_data, train_label)\n",
    "log_reg_pred = log_reg.predict(test_data)\n",
    "\n",
    "\n",
    "clf = tree.DecisionTreeClassifier()\n",
    "clf = clf.fit(train_data, train_label)\n",
    "clf_pred = clf.predict(test_data)\n",
    "\n",
    "r_forest = RandomForestClassifier(n_estimators=10)\n",
    "r_forest.fit(train_data, train_label)\n",
    "r_forest_pred = r_forest.predict(test_data)\n",
    "\n",
    "\n",
    "majority_class = adult['native-country'].value_counts().index[0]\n",
    "\n",
    "pred_df =  pd.DataFrame({'RFor': r_forest_pred, 'DTree' : clf_pred, 'LogReg' : log_reg_pred})\n",
    "overall_pred = pred_df.apply(lambda x: x.value_counts().index[0] if x.value_counts()[0] > 1 else majority_class, axis = 1)\n",
    "\n",
    "adult.loc[(adult['native-country'].values == '?'),'native-country'] = overall_pred.values\n",
    "print(adult['native-country'].value_counts())\n",
    "print(adult['native-country'].unique())"
   ]
  },
  {
   "cell_type": "code",
   "execution_count": 15,
   "metadata": {},
   "outputs": [
    {
     "ename": "ValueError",
     "evalue": "removals must all be in old categories: {'?'}",
     "output_type": "error",
     "traceback": [
      "\u001b[0;31m---------------------------------------------------------------------------\u001b[0m",
      "\u001b[0;31mValueError\u001b[0m                                Traceback (most recent call last)",
      "\u001b[0;32m<ipython-input-15-27c4c67905f2>\u001b[0m in \u001b[0;36m<module>\u001b[0;34m\u001b[0m\n\u001b[1;32m      1\u001b[0m \u001b[0;31m# Resetting the categories\u001b[0m\u001b[0;34m\u001b[0m\u001b[0;34m\u001b[0m\u001b[0;34m\u001b[0m\u001b[0m\n\u001b[1;32m      2\u001b[0m \u001b[0;34m\u001b[0m\u001b[0m\n\u001b[0;32m----> 3\u001b[0;31m \u001b[0madult\u001b[0m\u001b[0;34m[\u001b[0m\u001b[0;34m'workclass'\u001b[0m\u001b[0;34m]\u001b[0m \u001b[0;34m=\u001b[0m \u001b[0madult\u001b[0m\u001b[0;34m[\u001b[0m\u001b[0;34m'workclass'\u001b[0m\u001b[0;34m]\u001b[0m\u001b[0;34m.\u001b[0m\u001b[0mcat\u001b[0m\u001b[0;34m.\u001b[0m\u001b[0mremove_categories\u001b[0m\u001b[0;34m(\u001b[0m\u001b[0;34m'?'\u001b[0m\u001b[0;34m)\u001b[0m\u001b[0;34m\u001b[0m\u001b[0;34m\u001b[0m\u001b[0m\n\u001b[0m\u001b[1;32m      4\u001b[0m \u001b[0madult\u001b[0m\u001b[0;34m[\u001b[0m\u001b[0;34m'occupation'\u001b[0m\u001b[0;34m]\u001b[0m \u001b[0;34m=\u001b[0m \u001b[0madult\u001b[0m\u001b[0;34m[\u001b[0m\u001b[0;34m'occupation'\u001b[0m\u001b[0;34m]\u001b[0m\u001b[0;34m.\u001b[0m\u001b[0mcat\u001b[0m\u001b[0;34m.\u001b[0m\u001b[0mremove_categories\u001b[0m\u001b[0;34m(\u001b[0m\u001b[0;34m'?'\u001b[0m\u001b[0;34m)\u001b[0m\u001b[0;34m\u001b[0m\u001b[0;34m\u001b[0m\u001b[0m\n\u001b[1;32m      5\u001b[0m \u001b[0madult\u001b[0m\u001b[0;34m[\u001b[0m\u001b[0;34m'native-country'\u001b[0m\u001b[0;34m]\u001b[0m \u001b[0;34m=\u001b[0m \u001b[0madult\u001b[0m\u001b[0;34m[\u001b[0m\u001b[0;34m'native-country'\u001b[0m\u001b[0;34m]\u001b[0m\u001b[0;34m.\u001b[0m\u001b[0mcat\u001b[0m\u001b[0;34m.\u001b[0m\u001b[0mremove_categories\u001b[0m\u001b[0;34m(\u001b[0m\u001b[0;34m'?'\u001b[0m\u001b[0;34m)\u001b[0m\u001b[0;34m\u001b[0m\u001b[0;34m\u001b[0m\u001b[0m\n",
      "\u001b[0;32m/Applications/anaconda3/envs/pytorch/lib/python3.8/site-packages/pandas/core/accessor.py\u001b[0m in \u001b[0;36mf\u001b[0;34m(self, *args, **kwargs)\u001b[0m\n\u001b[1;32m     97\u001b[0m         \u001b[0;32mdef\u001b[0m \u001b[0m_create_delegator_method\u001b[0m\u001b[0;34m(\u001b[0m\u001b[0mname\u001b[0m\u001b[0;34m)\u001b[0m\u001b[0;34m:\u001b[0m\u001b[0;34m\u001b[0m\u001b[0;34m\u001b[0m\u001b[0m\n\u001b[1;32m     98\u001b[0m             \u001b[0;32mdef\u001b[0m \u001b[0mf\u001b[0m\u001b[0;34m(\u001b[0m\u001b[0mself\u001b[0m\u001b[0;34m,\u001b[0m \u001b[0;34m*\u001b[0m\u001b[0margs\u001b[0m\u001b[0;34m,\u001b[0m \u001b[0;34m**\u001b[0m\u001b[0mkwargs\u001b[0m\u001b[0;34m)\u001b[0m\u001b[0;34m:\u001b[0m\u001b[0;34m\u001b[0m\u001b[0;34m\u001b[0m\u001b[0m\n\u001b[0;32m---> 99\u001b[0;31m                 \u001b[0;32mreturn\u001b[0m \u001b[0mself\u001b[0m\u001b[0;34m.\u001b[0m\u001b[0m_delegate_method\u001b[0m\u001b[0;34m(\u001b[0m\u001b[0mname\u001b[0m\u001b[0;34m,\u001b[0m \u001b[0;34m*\u001b[0m\u001b[0margs\u001b[0m\u001b[0;34m,\u001b[0m \u001b[0;34m**\u001b[0m\u001b[0mkwargs\u001b[0m\u001b[0;34m)\u001b[0m\u001b[0;34m\u001b[0m\u001b[0;34m\u001b[0m\u001b[0m\n\u001b[0m\u001b[1;32m    100\u001b[0m \u001b[0;34m\u001b[0m\u001b[0m\n\u001b[1;32m    101\u001b[0m             \u001b[0mf\u001b[0m\u001b[0;34m.\u001b[0m\u001b[0m__name__\u001b[0m \u001b[0;34m=\u001b[0m \u001b[0mname\u001b[0m\u001b[0;34m\u001b[0m\u001b[0;34m\u001b[0m\u001b[0m\n",
      "\u001b[0;32m/Applications/anaconda3/envs/pytorch/lib/python3.8/site-packages/pandas/core/arrays/categorical.py\u001b[0m in \u001b[0;36m_delegate_method\u001b[0;34m(self, name, *args, **kwargs)\u001b[0m\n\u001b[1;32m   2589\u001b[0m \u001b[0;34m\u001b[0m\u001b[0m\n\u001b[1;32m   2590\u001b[0m         \u001b[0mmethod\u001b[0m \u001b[0;34m=\u001b[0m \u001b[0mgetattr\u001b[0m\u001b[0;34m(\u001b[0m\u001b[0mself\u001b[0m\u001b[0;34m.\u001b[0m\u001b[0m_parent\u001b[0m\u001b[0;34m,\u001b[0m \u001b[0mname\u001b[0m\u001b[0;34m)\u001b[0m\u001b[0;34m\u001b[0m\u001b[0;34m\u001b[0m\u001b[0m\n\u001b[0;32m-> 2591\u001b[0;31m         \u001b[0mres\u001b[0m \u001b[0;34m=\u001b[0m \u001b[0mmethod\u001b[0m\u001b[0;34m(\u001b[0m\u001b[0;34m*\u001b[0m\u001b[0margs\u001b[0m\u001b[0;34m,\u001b[0m \u001b[0;34m**\u001b[0m\u001b[0mkwargs\u001b[0m\u001b[0;34m)\u001b[0m\u001b[0;34m\u001b[0m\u001b[0;34m\u001b[0m\u001b[0m\n\u001b[0m\u001b[1;32m   2592\u001b[0m         \u001b[0;32mif\u001b[0m \u001b[0mres\u001b[0m \u001b[0;32mis\u001b[0m \u001b[0;32mnot\u001b[0m \u001b[0;32mNone\u001b[0m\u001b[0;34m:\u001b[0m\u001b[0;34m\u001b[0m\u001b[0;34m\u001b[0m\u001b[0m\n\u001b[1;32m   2593\u001b[0m             \u001b[0;32mreturn\u001b[0m \u001b[0mSeries\u001b[0m\u001b[0;34m(\u001b[0m\u001b[0mres\u001b[0m\u001b[0;34m,\u001b[0m \u001b[0mindex\u001b[0m\u001b[0;34m=\u001b[0m\u001b[0mself\u001b[0m\u001b[0;34m.\u001b[0m\u001b[0m_index\u001b[0m\u001b[0;34m,\u001b[0m \u001b[0mname\u001b[0m\u001b[0;34m=\u001b[0m\u001b[0mself\u001b[0m\u001b[0;34m.\u001b[0m\u001b[0m_name\u001b[0m\u001b[0;34m)\u001b[0m\u001b[0;34m\u001b[0m\u001b[0;34m\u001b[0m\u001b[0m\n",
      "\u001b[0;32m/Applications/anaconda3/envs/pytorch/lib/python3.8/site-packages/pandas/core/arrays/categorical.py\u001b[0m in \u001b[0;36mremove_categories\u001b[0;34m(self, removals, inplace)\u001b[0m\n\u001b[1;32m   1048\u001b[0m \u001b[0;34m\u001b[0m\u001b[0m\n\u001b[1;32m   1049\u001b[0m         \u001b[0;32mif\u001b[0m \u001b[0mlen\u001b[0m\u001b[0;34m(\u001b[0m\u001b[0mnot_included\u001b[0m\u001b[0;34m)\u001b[0m \u001b[0;34m!=\u001b[0m \u001b[0;36m0\u001b[0m\u001b[0;34m:\u001b[0m\u001b[0;34m\u001b[0m\u001b[0;34m\u001b[0m\u001b[0m\n\u001b[0;32m-> 1050\u001b[0;31m             \u001b[0;32mraise\u001b[0m \u001b[0mValueError\u001b[0m\u001b[0;34m(\u001b[0m\u001b[0;34mf\"removals must all be in old categories: {not_included}\"\u001b[0m\u001b[0;34m)\u001b[0m\u001b[0;34m\u001b[0m\u001b[0;34m\u001b[0m\u001b[0m\n\u001b[0m\u001b[1;32m   1051\u001b[0m \u001b[0;34m\u001b[0m\u001b[0m\n\u001b[1;32m   1052\u001b[0m         return self.set_categories(\n",
      "\u001b[0;31mValueError\u001b[0m: removals must all be in old categories: {'?'}"
     ]
    }
   ],
   "source": [
    "# Resetting the categories\n",
    "\n",
    "adult['workclass'] = adult['workclass'].cat.remove_categories('?')\n",
    "adult['occupation'] = adult['occupation'].cat.remove_categories('?')\n",
    "adult['native-country'] = adult['native-country'].cat.remove_categories('?')\n",
    "\n"
   ]
  },
  {
   "cell_type": "code",
   "execution_count": 16,
   "metadata": {},
   "outputs": [
    {
     "data": {
      "text/markdown": [
       "## 1.5. Correlation Matrix"
      ],
      "text/plain": [
       "<IPython.core.display.Markdown object>"
      ]
     },
     "metadata": {},
     "output_type": "display_data"
    },
    {
     "data": {
      "text/html": [
       "<div>\n",
       "<style scoped>\n",
       "    .dataframe tbody tr th:only-of-type {\n",
       "        vertical-align: middle;\n",
       "    }\n",
       "\n",
       "    .dataframe tbody tr th {\n",
       "        vertical-align: top;\n",
       "    }\n",
       "\n",
       "    .dataframe thead th {\n",
       "        text-align: right;\n",
       "    }\n",
       "</style>\n",
       "<table border=\"1\" class=\"dataframe\">\n",
       "  <thead>\n",
       "    <tr style=\"text-align: right;\">\n",
       "      <th></th>\n",
       "      <th>fnlwgt</th>\n",
       "      <th>educational-num</th>\n",
       "      <th>capital-gain</th>\n",
       "      <th>capital-loss</th>\n",
       "      <th>hours-per-week</th>\n",
       "    </tr>\n",
       "  </thead>\n",
       "  <tbody>\n",
       "    <tr>\n",
       "      <th>fnlwgt</th>\n",
       "      <td>1.000000</td>\n",
       "      <td>-0.038761</td>\n",
       "      <td>-0.003706</td>\n",
       "      <td>-0.004366</td>\n",
       "      <td>-0.013519</td>\n",
       "    </tr>\n",
       "    <tr>\n",
       "      <th>educational-num</th>\n",
       "      <td>-0.038761</td>\n",
       "      <td>1.000000</td>\n",
       "      <td>0.125146</td>\n",
       "      <td>0.080972</td>\n",
       "      <td>0.143689</td>\n",
       "    </tr>\n",
       "    <tr>\n",
       "      <th>capital-gain</th>\n",
       "      <td>-0.003706</td>\n",
       "      <td>0.125146</td>\n",
       "      <td>1.000000</td>\n",
       "      <td>-0.031441</td>\n",
       "      <td>0.082157</td>\n",
       "    </tr>\n",
       "    <tr>\n",
       "      <th>capital-loss</th>\n",
       "      <td>-0.004366</td>\n",
       "      <td>0.080972</td>\n",
       "      <td>-0.031441</td>\n",
       "      <td>1.000000</td>\n",
       "      <td>0.054467</td>\n",
       "    </tr>\n",
       "    <tr>\n",
       "      <th>hours-per-week</th>\n",
       "      <td>-0.013519</td>\n",
       "      <td>0.143689</td>\n",
       "      <td>0.082157</td>\n",
       "      <td>0.054467</td>\n",
       "      <td>1.000000</td>\n",
       "    </tr>\n",
       "  </tbody>\n",
       "</table>\n",
       "</div>"
      ],
      "text/plain": [
       "                   fnlwgt  educational-num  capital-gain  capital-loss  \\\n",
       "fnlwgt           1.000000        -0.038761     -0.003706     -0.004366   \n",
       "educational-num -0.038761         1.000000      0.125146      0.080972   \n",
       "capital-gain    -0.003706         0.125146      1.000000     -0.031441   \n",
       "capital-loss    -0.004366         0.080972     -0.031441      1.000000   \n",
       "hours-per-week  -0.013519         0.143689      0.082157      0.054467   \n",
       "\n",
       "                 hours-per-week  \n",
       "fnlwgt                -0.013519  \n",
       "educational-num        0.143689  \n",
       "capital-gain           0.082157  \n",
       "capital-loss           0.054467  \n",
       "hours-per-week         1.000000  "
      ]
     },
     "metadata": {},
     "output_type": "display_data"
    },
    {
     "data": {
      "text/markdown": [
       "We see that none of the columns are highly correlated."
      ],
      "text/plain": [
       "<IPython.core.display.Markdown object>"
      ]
     },
     "metadata": {},
     "output_type": "display_data"
    }
   ],
   "source": [
    "printmd('## 1.5. Correlation Matrix')\n",
    "\n",
    "display(adult.corr())\n",
    "\n",
    "printmd('We see that none of the columns are highly correlated.')"
   ]
  },
  {
   "cell_type": "markdown",
   "metadata": {},
   "source": [
    "---\n",
    "# 2. Exploratory Analysis"
   ]
  },
  {
   "cell_type": "code",
   "execution_count": 17,
   "metadata": {},
   "outputs": [],
   "source": [
    "# Creating a dictionary that contain the education and it's corresponding education level\n",
    "edu_level = {}\n",
    "for x,y in adult[['educational-num','education']].drop_duplicates().itertuples(index=False):\n",
    "    edu_level[y] = x"
   ]
  },
  {
   "cell_type": "code",
   "execution_count": 18,
   "metadata": {},
   "outputs": [
    {
     "data": {
      "text/markdown": [
       "## 2.1. Education vs Income"
      ],
      "text/plain": [
       "<IPython.core.display.Markdown object>"
      ]
     },
     "metadata": {},
     "output_type": "display_data"
    },
    {
     "data": {
      "text/markdown": [
       "I plot a bar graph showing the proportion of income classes across education levels         in the figure below. As one would expect, we see from the bar graph below that as the         education level increase, the proportion of people who earn more than 50k a year also         increase. It is interesting to note that only after a master's degree, the proportion of         people earning more than 50k a year, is a majority."
      ],
      "text/plain": [
       "<IPython.core.display.Markdown object>"
      ]
     },
     "metadata": {},
     "output_type": "display_data"
    },
    {
     "data": {
      "image/png": "[encoded data removed]",
      "text/plain": [
       "<Figure size 720x576 with 1 Axes>"
      ]
     },
     "metadata": {
      "needs_background": "light"
     },
     "output_type": "display_data"
    }
   ],
   "source": [
    "printmd('## 2.1. Education vs Income')\n",
    "\n",
    "education = round(pd.crosstab(adult.education, adult.income).div(pd.crosstab(adult.education, adult.income).apply(sum,1),0),2)\n",
    "education = education.reindex(sorted(edu_level, key=edu_level.get, reverse=False))\n",
    "\n",
    "ax = education.plot(kind ='bar', title = 'Proportion distribution across education levels', figsize = (10,8))\n",
    "ax.set_xlabel('Education level')\n",
    "ax.set_ylabel('Proportion of population')\n",
    "\n",
    "printmd('I plot a bar graph showing the proportion of income classes across education levels \\\n",
    "        in the figure below. As one would expect, we see from the bar graph below that as the \\\n",
    "        education level increase, the proportion of people who earn more than 50k a year also \\\n",
    "        increase. It is interesting to note that only after a master\\'s degree, the proportion of \\\n",
    "        people earning more than 50k a year, is a majority.')\n",
    "        "
   ]
  },
  {
   "cell_type": "code",
   "execution_count": 19,
   "metadata": {},
   "outputs": [
    {
     "data": {
      "text/markdown": [
       "## 2.2 Gender vs Income"
      ],
      "text/plain": [
       "<IPython.core.display.Markdown object>"
      ]
     },
     "metadata": {},
     "output_type": "display_data"
    },
    {
     "data": {
      "text/markdown": [
       "We plot a bar graph showing the proportion of income classes across the genders in figure         below. From the graph, at an overall view, there exists a wage gap between females and males.         Since we do not have the exactly value of the income, we are limited to only observing that the         proportion of males earning more than 50k a year is more than double of their female counterparts.         "
      ],
      "text/plain": [
       "<IPython.core.display.Markdown object>"
      ]
     },
     "metadata": {},
     "output_type": "display_data"
    },
    {
     "data": {
      "image/png": "[encoded data removed]",
      "text/plain": [
       "<Figure size 432x288 with 1 Axes>"
      ]
     },
     "metadata": {
      "needs_background": "light"
     },
     "output_type": "display_data"
    }
   ],
   "source": [
    "printmd('## 2.2 Gender vs Income')\n",
    "\n",
    "gender = round(pd.crosstab(adult.gender, adult.income).div(pd.crosstab(adult.gender, adult.income).apply(sum,1),0),2)\n",
    "gender.sort_values(by = '>50K', inplace = True)\n",
    "ax = gender.plot(kind ='bar', title = 'Proportion distribution across gender levels')\n",
    "ax.set_xlabel('Gender level')\n",
    "ax.set_ylabel('Proportion of population')\n",
    "\n",
    "printmd('We plot a bar graph showing the proportion of income classes across the genders in figure \\\n",
    "        below. From the graph, at an overall view, there exists a wage gap between females and males. \\\n",
    "        Since we do not have the exactly value of the income, we are limited to only observing that the \\\n",
    "        proportion of males earning more than 50k a year is more than double of their female counterparts. \\\n",
    "        ')"
   ]
  },
  {
   "cell_type": "code",
   "execution_count": 33,
   "metadata": {
    "scrolled": false
   },
   "outputs": [
    {
     "data": {
      "text/markdown": [
       "Taking a closer look at the disparity in income between men and women, plot the         proportion of men and women who earn more than 50k a year, across all the working         classes as seen in Fig. 3. We see that men always have a higher proportion earning         more than 50k a year than women, except for the 'without.pay' working class, where         they have the same proportion."
      ],
      "text/plain": [
       "<IPython.core.display.Markdown object>"
      ]
     },
     "metadata": {},
     "output_type": "display_data"
    },
    {
     "data": {
      "image/png": "[encoded data removed]",
      "text/plain": [
       "<matplotlib.figure.Figure at 0x1a148ff748>"
      ]
     },
     "metadata": {},
     "output_type": "display_data"
    }
   ],
   "source": [
    "gender_workclass = round(pd.crosstab(adult.workclass, [adult.income, adult.gender]).div(pd.crosstab(adult.workclass, [adult.income, adult.gender]).apply(sum,1),0),2)\n",
    "gender_workclass[[('>50K','Male'), ('>50K','Female')]].plot(kind = 'bar', title = 'Proportion distribution across gender for each workclass', figsize = (10,8), rot = 30)\n",
    "ax.set_xlabel('Gender level')\n",
    "ax.set_ylabel('Proportion of population')\n",
    "\n",
    "printmd('Taking a closer look at the disparity in income between men and women, plot the \\\n",
    "        proportion of men and women who earn more than 50k a year, across all the working \\\n",
    "        classes as seen in Fig. 3. We see that men always have a higher proportion earning \\\n",
    "        more than 50k a year than women, except for the \\'without.pay\\' working class, where \\\n",
    "        they have the same proportion.')"
   ]
  },
  {
   "cell_type": "code",
   "execution_count": 35,
   "metadata": {
    "scrolled": false
   },
   "outputs": [],
   "source": [
    "# printmd('### Gender across working classes')\n",
    "\n",
    "# for i in adult.workclass.unique():\n",
    "#     df = adult[adult.workclass == i]\n",
    "\n",
    "#     hours_per_week = round(pd.crosstab(df.gender, df.income).div(pd.crosstab(df.gender, df.income).apply(sum,1),0),2)\n",
    "#     # hours_per_week.sort_values(by = '>50K', inplace = True)\n",
    "#     ax = hours_per_week.plot(kind ='bar', title = 'Proportion distribution across Gender for '+ i)\n",
    "#     ax.set_xlabel('Gender')\n",
    "#     ax.set_ylabel('Proportion of population')\n",
    "\n",
    "#     print()"
   ]
  },
  {
   "cell_type": "code",
   "execution_count": 38,
   "metadata": {},
   "outputs": [
    {
     "data": {
      "text/markdown": [
       "## 2.3. Occupation vs Income"
      ],
      "text/plain": [
       "<IPython.core.display.Markdown object>"
      ]
     },
     "metadata": {},
     "output_type": "display_data"
    },
    {
     "name": "stdout",
     "output_type": "stream",
     "text": [
      "\n"
     ]
    },
    {
     "data": {
      "image/png": "[encoded data removed]",
      "text/plain": [
       "<matplotlib.figure.Figure at 0x1a17a53470>"
      ]
     },
     "metadata": {},
     "output_type": "display_data"
    }
   ],
   "source": [
    "printmd('## 2.3. Occupation vs Income')\n",
    "\n",
    "occupation = round(pd.crosstab(adult.occupation, adult.income).div(pd.crosstab(adult.occupation, adult.income).apply(sum,1),0),2)\n",
    "occupation.sort_values(by = '>50K', inplace = True)\n",
    "ax = occupation.plot(kind ='bar', title = 'Proportion distribution across Occupation levels', figsize = (10,8))\n",
    "ax.set_xlabel('Occupation level')\n",
    "ax.set_ylabel('Proportion of population')\n",
    "\n",
    "print()"
   ]
  },
  {
   "cell_type": "code",
   "execution_count": 39,
   "metadata": {},
   "outputs": [
    {
     "data": {
      "text/markdown": [
       "## 2.4. Workclass vs Income"
      ],
      "text/plain": [
       "<IPython.core.display.Markdown object>"
      ]
     },
     "metadata": {},
     "output_type": "display_data"
    },
    {
     "name": "stdout",
     "output_type": "stream",
     "text": [
      "\n"
     ]
    },
    {
     "data": {
      "image/png": "[encoded data removed]",
      "text/plain": [
       "<matplotlib.figure.Figure at 0x10c867fd0>"
      ]
     },
     "metadata": {},
     "output_type": "display_data"
    }
   ],
   "source": [
    "printmd('## 2.4. Workclass vs Income')\n",
    "\n",
    "workclass = round(pd.crosstab(adult.workclass, adult.income).div(pd.crosstab(adult.workclass, adult.income).apply(sum,1),0),2)\n",
    "workclass.sort_values(by = '>50K', inplace = True)\n",
    "ax = workclass.plot(kind ='bar', title = 'Proportion distribution across workclass levels', figsize = (10,8))\n",
    "ax.set_xlabel('Workclass level')\n",
    "ax.set_ylabel('Proportion of population')\n",
    "\n",
    "print()"
   ]
  },
  {
   "cell_type": "code",
   "execution_count": 40,
   "metadata": {},
   "outputs": [
    {
     "data": {
      "text/markdown": [
       "## 2.5. Race vs Income"
      ],
      "text/plain": [
       "<IPython.core.display.Markdown object>"
      ]
     },
     "metadata": {},
     "output_type": "display_data"
    },
    {
     "name": "stdout",
     "output_type": "stream",
     "text": [
      "\n"
     ]
    },
    {
     "data": {
      "image/png": "[encoded data removed]",
      "text/plain": [
       "<matplotlib.figure.Figure at 0x1a108e4f28>"
      ]
     },
     "metadata": {},
     "output_type": "display_data"
    }
   ],
   "source": [
    "printmd('## 2.5. Race vs Income')\n",
    "\n",
    "race = round(pd.crosstab(adult.race, adult.income).div(pd.crosstab(adult.race, adult.income).apply(sum,1),0),2)\n",
    "race.sort_values(by = '>50K', inplace = True)\n",
    "ax = race.plot(kind ='bar', title = 'Proportion distribution across race levels', figsize = (10,8))\n",
    "ax.set_xlabel('Race level')\n",
    "ax.set_ylabel('Proportion of population')\n",
    "\n",
    "print()"
   ]
  },
  {
   "cell_type": "code",
   "execution_count": 47,
   "metadata": {},
   "outputs": [
    {
     "data": {
      "text/markdown": [
       "## 2.6. Native Country"
      ],
      "text/plain": [
       "<IPython.core.display.Markdown object>"
      ]
     },
     "metadata": {},
     "output_type": "display_data"
    },
    {
     "data": {
      "text/markdown": [
       "I plot a bar graph showing the proportion of income classes across the native country in figure         below. From the graph, we notice a trend in positioning of the country. South American country are         at the left end of the plot, with low proportion of population that make more than 50k a year. The         United States is located somewhat centrally, and at the right are countries from Europe and Asia,         with higher proportion of population that make more than 50k a year."
      ],
      "text/plain": [
       "<IPython.core.display.Markdown object>"
      ]
     },
     "metadata": {},
     "output_type": "display_data"
    },
    {
     "data": {
      "image/png": "[encoded data removed]",
      "text/plain": [
       "<matplotlib.figure.Figure at 0x1a125822e8>"
      ]
     },
     "metadata": {},
     "output_type": "display_data"
    }
   ],
   "source": [
    "printmd('## 2.6. Native Country')\n",
    "\n",
    "native_country = round(pd.crosstab(adult['native-country'], adult.income).div(pd.crosstab(adult['native-country'], adult.income).apply(sum,1),0),2)\n",
    "native_country.sort_values(by = '>50K', inplace = True)\n",
    "ax = native_country.plot(kind ='bar', title = 'Proportion distribution across Native Country levels', figsize = (20,12))\n",
    "ax.set_xlabel('Native country')\n",
    "ax.set_ylabel('Proportion of population')\n",
    "\n",
    "printmd('I plot a bar graph showing the proportion of income classes across the native country in figure \\\n",
    "        below. From the graph, we notice a trend in positioning of the country. South American country are \\\n",
    "        at the left end of the plot, with low proportion of population that make more than 50k a year. The \\\n",
    "        United States is located somewhat centrally, and at the right are countries from Europe and Asia, \\\n",
    "        with higher proportion of population that make more than 50k a year.')\n"
   ]
  },
  {
   "cell_type": "code",
   "execution_count": 48,
   "metadata": {},
   "outputs": [
    {
     "data": {
      "text/markdown": [
       "## 2.7. Hours per week vs Income"
      ],
      "text/plain": [
       "<IPython.core.display.Markdown object>"
      ]
     },
     "metadata": {},
     "output_type": "display_data"
    },
    {
     "data": {
      "text/markdown": [
       "I plot a bar graph showing the proportion of income classes across the hours worked.         We would expected to notice a trend that higher the hours worked per week, the higher the proportion         of population making more than 50k a year. However, this was not necessarily true from the graph.         For several hours instance (for example, where hours worked was 77, 79, 81, 82, 87, 88 and so on)         no one earned more than 50k a year. "
      ],
      "text/plain": [
       "<IPython.core.display.Markdown object>"
      ]
     },
     "metadata": {},
     "output_type": "display_data"
    },
    {
     "data": {
      "image/png": "[encoded data removed]",
      "text/plain": [
       "<matplotlib.figure.Figure at 0x1a11a622e8>"
      ]
     },
     "metadata": {},
     "output_type": "display_data"
    }
   ],
   "source": [
    "printmd('## 2.7. Hours per week vs Income')\n",
    "\n",
    "hours_per_week = round(pd.crosstab(adult['hours-per-week'], adult.income).div(pd.crosstab(adult['hours-per-week'], adult.income).apply(sum,1),0),2)\n",
    "# hours_per_week.sort_values(by = '>50K', inplace = True)\n",
    "ax = hours_per_week.plot(kind ='bar', title = 'Proportion distribution across Hours per week', figsize = (20,12))\n",
    "ax.set_xlabel('Hours per week')\n",
    "ax.set_ylabel('Proportion of population')\n",
    "\n",
    "printmd('I plot a bar graph showing the proportion of income classes across the hours worked. \\\n",
    "        We would expected to notice a trend that higher the hours worked per week, the higher the proportion \\\n",
    "        of population making more than 50k a year. However, this was not necessarily true from the graph. \\\n",
    "        For several hours instance (for example, where hours worked was 77, 79, 81, 82, 87, 88 and so on) \\\n",
    "        no one earned more than 50k a year. ')\n"
   ]
  },
  {
   "cell_type": "code",
   "execution_count": 51,
   "metadata": {},
   "outputs": [
    {
     "data": {
      "text/markdown": [
       "### 2.7.1 Hours per week with categories"
      ],
      "text/plain": [
       "<IPython.core.display.Markdown object>"
      ]
     },
     "metadata": {},
     "output_type": "display_data"
    },
    {
     "data": {
      "text/markdown": [
       "Therefore, I decided to transform this column into 3 categories, less than 40 hours,         40 to 60 hours and greater than 60 hours. Plotting a bar graph with these 3 categories,         we can see from the figure below that there is an increasing trend in the proportion of         population making more than 50k a year."
      ],
      "text/plain": [
       "<IPython.core.display.Markdown object>"
      ]
     },
     "metadata": {},
     "output_type": "display_data"
    },
    {
     "data": {
      "image/png": "[encoded data removed]",
      "text/plain": [
       "<matplotlib.figure.Figure at 0x1a17ab5b70>"
      ]
     },
     "metadata": {},
     "output_type": "display_data"
    }
   ],
   "source": [
    "printmd('### 2.7.1 Hours per week with categories')\n",
    "\n",
    "adult['hour_worked_bins'] = ['<40' if i < 40 else '40-60' if i <= 60 else '>60'  for i in adult['hours-per-week']]\n",
    "adult['hour_worked_bins'] = adult['hour_worked_bins'].astype('category')\n",
    "hours_per_week = round(pd.crosstab(adult.hour_worked_bins, adult.income).div(pd.crosstab(adult.hour_worked_bins, adult.income).apply(sum,1),0),2)\n",
    "\n",
    "hours_per_week.sort_values(by = '>50K', inplace = True)\n",
    "ax = hours_per_week.plot(kind ='bar', title = 'Proportion distribution across Hours per week', figsize = (10,6))\n",
    "ax.set_xlabel('Hours per week')\n",
    "ax.set_ylabel('Proportion of population')\n",
    "\n",
    "printmd('Therefore, I decided to transform this column into 3 categories, less than 40 hours, \\\n",
    "        40 to 60 hours and greater than 60 hours. Plotting a bar graph with these 3 categories, \\\n",
    "        we can see from the figure below that there is an increasing trend in the proportion of \\\n",
    "        population making more than 50k a year.')\n"
   ]
  },
  {
   "cell_type": "code",
   "execution_count": 52,
   "metadata": {
    "scrolled": false
   },
   "outputs": [
    {
     "data": {
      "text/markdown": [
       "### 2.7.2 Hours worked across working classes"
      ],
      "text/plain": [
       "<IPython.core.display.Markdown object>"
      ]
     },
     "metadata": {},
     "output_type": "display_data"
    },
    {
     "name": "stdout",
     "output_type": "stream",
     "text": [
      "\n",
      "\n",
      "\n",
      "\n",
      "\n",
      "\n",
      "\n",
      "\n"
     ]
    },
    {
     "data": {
      "image/png": "[encoded data removed]",
      "text/plain": [
       "<matplotlib.figure.Figure at 0x1a11aa8908>"
      ]
     },
     "metadata": {},
     "output_type": "display_data"
    },
    {
     "data": {
      "image/png": "[encoded data removed]",
      "text/plain": [
       "<matplotlib.figure.Figure at 0x1a11b39588>"
      ]
     },
     "metadata": {},
     "output_type": "display_data"
    },
    {
     "data": {
      "image/png": "[encoded data removed]",
      "text/plain": [
       "<matplotlib.figure.Figure at 0x108570470>"
      ]
     },
     "metadata": {},
     "output_type": "display_data"
    },
    {
     "data": {
      "image/png": "[encoded data removed]",
      "text/plain": [
       "<matplotlib.figure.Figure at 0x10f5d0198>"
      ]
     },
     "metadata": {},
     "output_type": "display_data"
    },
    {
     "data": {
      "image/png": "[encoded data removed]",
      "text/plain": [
       "<matplotlib.figure.Figure at 0x1a168e54a8>"
      ]
     },
     "metadata": {},
     "output_type": "display_data"
    },
    {
     "data": {
      "image/png": "[encoded data removed]",
      "text/plain": [
       "<matplotlib.figure.Figure at 0x10ca8a4a8>"
      ]
     },
     "metadata": {},
     "output_type": "display_data"
    },
    {
     "data": {
      "image/png": "[encoded data removed]",
      "text/plain": [
       "<matplotlib.figure.Figure at 0x1a1656c390>"
      ]
     },
     "metadata": {},
     "output_type": "display_data"
    },
    {
     "data": {
      "image/png": "[encoded data removed]",
      "text/plain": [
       "<matplotlib.figure.Figure at 0x10ca96748>"
      ]
     },
     "metadata": {},
     "output_type": "display_data"
    }
   ],
   "source": [
    "printmd('### 2.7.2 Hours worked across working classes')\n",
    "\n",
    "for i in adult.workclass.unique():\n",
    "    df = adult[adult.workclass == i]\n",
    "\n",
    "    hours_per_week = round(pd.crosstab(df['hours-per-week'], df.income).div(pd.crosstab(df['hours-per-week'], df.income).apply(sum,1),0),2)\n",
    "    # hours_per_week.sort_values(by = '>50K', inplace = True)\n",
    "    ax = hours_per_week.plot(kind ='bar', title = 'Proportion distribution across Hours per week for '+ i, figsize = (20,12))\n",
    "    ax.set_xlabel('Hours per week')\n",
    "    ax.set_ylabel('Proportion of population')\n",
    "\n",
    "    print()"
   ]
  },
  {
   "cell_type": "code",
   "execution_count": null,
   "metadata": {},
   "outputs": [],
   "source": [
    "# plt.rcParams['figure.figsize'] = (5, 4)\n",
    "# #plt.xlim([20,110])\n",
    "# #plt.ylim([20,110])\n",
    "            \n",
    "# pos = adult[adult.income == '>50K']\n",
    "# neg = adult[adult.income != '>50K']\n",
    "\n",
    "\n",
    "# plt.scatter(pos['educational-num'], pos['hours-per-week'], marker='o', c='b')\n",
    "# plt.scatter(neg['educational-num'], neg['hours-per-week'], marker='x', c='r')\n",
    "# plt.xlabel('Exam 1 score')\n",
    "# plt.ylabel('Exam 2 score')\n",
    "# plt.legend(['Not Admitted', 'Admitted'])\n",
    "\n",
    "# plt.show()"
   ]
  },
  {
   "cell_type": "markdown",
   "metadata": {},
   "source": [
    "---\n",
    "# 3. Data Transformations"
   ]
  },
  {
   "cell_type": "markdown",
   "metadata": {},
   "source": [
    "## 3.1. Feature Selection"
   ]
  },
  {
   "cell_type": "code",
   "execution_count": 59,
   "metadata": {},
   "outputs": [
    {
     "data": {
      "text/markdown": [
       "* For education level, we have 2 features that convey the same meaning, 'education'         and 'educational-num'. To avoid the effect of this attribute on the models to be         overstated, I am not going to use the categorical education attribute."
      ],
      "text/plain": [
       "<IPython.core.display.Markdown object>"
      ]
     },
     "metadata": {},
     "output_type": "display_data"
    },
    {
     "data": {
      "text/markdown": [
       "* I use the categorical Hours work column and drop the 'hour-per-week' column"
      ],
      "text/plain": [
       "<IPython.core.display.Markdown object>"
      ]
     },
     "metadata": {},
     "output_type": "display_data"
    },
    {
     "data": {
      "text/markdown": [
       "* Also, I chose not to use the 'Fnlwgt' attribute that is used by the census,         as the inverse of sampling fraction adjusted for non-response and over or under sampling         of particular groups. This attribute does not convey individual related meaning."
      ],
      "text/plain": [
       "<IPython.core.display.Markdown object>"
      ]
     },
     "metadata": {},
     "output_type": "display_data"
    }
   ],
   "source": [
    "# Remove education and fnlwgt\n",
    "#adult.drop(columns = ['education','fnlwgt','hours-per-week'], inplace = True)\n",
    "\n",
    "printmd('* For education level, we have 2 features that convey the same meaning, \\'education\\' \\\n",
    "        and \\'educational-num\\'. To avoid the effect of this attribute on the models to be \\\n",
    "        overstated, I am not going to use the categorical education attribute.')\n",
    "printmd('* I use the categorical Hours work column and drop the \\'hour-per-week\\' column')\n",
    "printmd('* Also, I chose not to use the \\'Fnlwgt\\' attribute that is used by the census, \\\n",
    "        as the inverse of sampling fraction adjusted for non-response and over or under sampling \\\n",
    "        of particular groups. This attribute does not convey individual related meaning.')\n"
   ]
  },
  {
   "cell_type": "markdown",
   "metadata": {},
   "source": [
    "## 3.2 Normalization"
   ]
  },
  {
   "cell_type": "code",
   "execution_count": 60,
   "metadata": {},
   "outputs": [
    {
     "data": {
      "text/markdown": [
       "## Box plot"
      ],
      "text/plain": [
       "<IPython.core.display.Markdown object>"
      ]
     },
     "metadata": {},
     "output_type": "display_data"
    },
    {
     "data": {
      "text/plain": [
       "<matplotlib.axes._subplots.AxesSubplot at 0x1a146dc320>"
      ]
     },
     "execution_count": 60,
     "metadata": {},
     "output_type": "execute_result"
    },
    {
     "data": {
      "image/png": "[encoded data removed]",
      "text/plain": [
       "<matplotlib.figure.Figure at 0x10c7229b0>"
      ]
     },
     "metadata": {},
     "output_type": "display_data"
    }
   ],
   "source": [
    "printmd('## Box plot')\n",
    "adult.select_dtypes(exclude = 'category').plot(kind = 'box', figsize = (10,8))"
   ]
  },
  {
   "cell_type": "code",
   "execution_count": 61,
   "metadata": {},
   "outputs": [
    {
     "data": {
      "text/markdown": [
       "Normalization happens on the training dataset, by removing the mean and         scaling to unit variance. These values are stored and then later applied          to the test data before the test data is passed to the model for prediction. "
      ],
      "text/plain": [
       "<IPython.core.display.Markdown object>"
      ]
     },
     "metadata": {},
     "output_type": "display_data"
    }
   ],
   "source": [
    "printmd ('Normalization happens on the training dataset, by removing the mean and \\\n",
    "        scaling to unit variance. These values are stored and then later applied  \\\n",
    "        to the test data before the test data is passed to the model for prediction. ')"
   ]
  },
  {
   "cell_type": "markdown",
   "metadata": {},
   "source": [
    "---\n",
    "# 4. Model Development & Classification "
   ]
  },
  {
   "cell_type": "markdown",
   "metadata": {},
   "source": [
    "## 4.1. Data Preparation'\n",
    "\n",
    "One-hot encoding is the process of representing multi-class categorical features as binary features, one for each class. Although this process increases the dimensionality of the dataset, classification algorithms tend to work better on this format of data.\n",
    "\n",
    "I use one-hot encoding to represent all the categorical features in the dataset. \n"
   ]
  },
  {
   "cell_type": "code",
   "execution_count": 20,
   "metadata": {},
   "outputs": [],
   "source": [
    "# Data Prep\n",
    "adult_data = adult.drop(columns = ['income'])\n",
    "adult_label = adult.income\n",
    "\n",
    "\n",
    "adult_cat_1hot = pd.get_dummies(adult_data.select_dtypes('category'))\n",
    "adult_non_cat = adult_data.select_dtypes(exclude = 'category')\n",
    "\n",
    "adult_data_1hot = pd.concat([adult_non_cat, adult_cat_1hot], axis=1, join='inner')\n"
   ]
  },
  {
   "cell_type": "code",
   "execution_count": 35,
   "metadata": {},
   "outputs": [],
   "source": [
    "# Train - Test split\n",
    "train_data, test_data, train_label, test_label = train_test_split(adult_data_1hot, adult_label, test_size  = 0.25)\n",
    "np.save(\"train_data.npy\", train_data.values)\n",
    "np.save(\"test_data.npy\", test_data.values)\n",
    "np.save(\"train_label.npy\", train_label.values)\n",
    "np.save(\"test_label.npy\", test_label.values)"
   ]
  },
  {
   "cell_type": "code",
   "execution_count": 66,
   "metadata": {},
   "outputs": [],
   "source": [
    "# Normalization\n",
    "from sklearn.preprocessing import StandardScaler  \n",
    "scaler = StandardScaler()  \n",
    "\n",
    "# Fitting only on training data\n",
    "scaler.fit(train_data)  \n",
    "train_data = scaler.transform(train_data)  \n",
    "\n",
    "# Applying same transformation to test data\n",
    "test_data = scaler.transform(test_data) "
   ]
  },
  {
   "cell_type": "code",
   "execution_count": 67,
   "metadata": {},
   "outputs": [],
   "source": [
    "def model_eval(actual, pred):\n",
    "    \n",
    "    confusion = pd.crosstab(actual, pred, rownames=['Actual'], colnames=['Predicted'])\n",
    "    TP = confusion.loc['>50K','>50K']\n",
    "    TN = confusion.loc['<=50K','<=50K']\n",
    "    FP = confusion.loc['<=50K','>50K']\n",
    "    FN = confusion.loc['>50K','<=50K']\n",
    "\n",
    "    accuracy = ((TP+TN))/(TP+FN+FP+TN)\n",
    "    precision = (TP)/(TP+FP)\n",
    "    recall = (TP)/(TP+FN)\n",
    "    f_measure = (2*recall*precision)/(recall+precision)\n",
    "    sensitivity = TP / (TP + FN)\n",
    "    specificity = TN / (TN + FP)\n",
    "    error_rate = 1 - accuracy\n",
    "    \n",
    "    out = {}\n",
    "    out['accuracy'] =  accuracy\n",
    "    out['precision'] = precision\n",
    "    out['recall'] = recall\n",
    "    out['f_measure'] = f_measure\n",
    "    out['sensitivity'] = sensitivity\n",
    "    out['specificity'] = specificity\n",
    "    out['error_rate'] = error_rate\n",
    "    \n",
    "    return out\n"
   ]
  },
  {
   "cell_type": "markdown",
   "metadata": {},
   "source": [
    "## 4.2. Model Development\n",
    "### 4.2.1. Decision Tree\n",
    "\n",
    "For the decision tree classifier, I experimented with the splitting criteria, minimum samples required to split, max depth of the tree, minimum samples required at the leaf level and the maximum features to consider when looking for the best split. The following values of the parameters attained the best accuracy during classification. Results in the table below.\n",
    "\n",
    "*\t**Splitting criteria:** Gini Index (Using Gini Index marginally outperformed Entropy with a higher accuracy.)\n",
    "*\t**Min samples required to split:** 5% (Best amongst 1%, 10% and 5%.)\n",
    "*\t**Max Depth:** None\n",
    "*\t**Min samples required at leaf:**  0.1 % (Best amongst 1%, 5% and 0.1%.)\n",
    "*\t**Max features:** number of features (Performs better than 'auto', 'log2' and 'sqrt'.)\n"
   ]
  },
  {
   "cell_type": "code",
   "execution_count": 74,
   "metadata": {},
   "outputs": [
    {
     "name": "stdout",
     "output_type": "stream",
     "text": [
      "Desicion Tree using Gini Index : 84.92 percent.\n",
      "Desicion Tree using Entropy : 84.90 percent.\n"
     ]
    },
    {
     "data": {
      "text/html": [
       "<div>\n",
       "<style scoped>\n",
       "    .dataframe tbody tr th:only-of-type {\n",
       "        vertical-align: middle;\n",
       "    }\n",
       "\n",
       "    .dataframe tbody tr th {\n",
       "        vertical-align: top;\n",
       "    }\n",
       "\n",
       "    .dataframe thead th {\n",
       "        text-align: right;\n",
       "    }\n",
       "</style>\n",
       "<table border=\"1\" class=\"dataframe\">\n",
       "  <thead>\n",
       "    <tr style=\"text-align: right;\">\n",
       "      <th></th>\n",
       "      <th>accuracy</th>\n",
       "      <th>error_rate</th>\n",
       "      <th>f_measure</th>\n",
       "      <th>precision</th>\n",
       "      <th>recall</th>\n",
       "      <th>sensitivity</th>\n",
       "      <th>specificity</th>\n",
       "    </tr>\n",
       "  </thead>\n",
       "  <tbody>\n",
       "    <tr>\n",
       "      <th>DTree_Entropy</th>\n",
       "      <td>0.8490</td>\n",
       "      <td>0.1510</td>\n",
       "      <td>0.6435</td>\n",
       "      <td>0.7765</td>\n",
       "      <td>0.5494</td>\n",
       "      <td>0.5494</td>\n",
       "      <td>0.9478</td>\n",
       "    </tr>\n",
       "    <tr>\n",
       "      <th>DTree_Gini</th>\n",
       "      <td>0.8492</td>\n",
       "      <td>0.1508</td>\n",
       "      <td>0.6513</td>\n",
       "      <td>0.7634</td>\n",
       "      <td>0.5678</td>\n",
       "      <td>0.5678</td>\n",
       "      <td>0.9420</td>\n",
       "    </tr>\n",
       "  </tbody>\n",
       "</table>\n",
       "</div>"
      ],
      "text/plain": [
       "               accuracy  error_rate  f_measure  precision  recall  \\\n",
       "DTree_Entropy    0.8490      0.1510     0.6435     0.7765  0.5494   \n",
       "DTree_Gini       0.8492      0.1508     0.6513     0.7634  0.5678   \n",
       "\n",
       "               sensitivity  specificity  \n",
       "DTree_Entropy       0.5494       0.9478  \n",
       "DTree_Gini          0.5678       0.9420  "
      ]
     },
     "metadata": {},
     "output_type": "display_data"
    }
   ],
   "source": [
    "#printmd('### 3.1.1. Model Development ')\n",
    "\n",
    "# Gini \n",
    "clf_gini = tree.DecisionTreeClassifier(criterion = 'gini', min_samples_split = 0.05, min_samples_leaf = 0.001, max_features = None)\n",
    "clf_gini = clf_gini.fit(train_data, train_label)\n",
    "clf_gini_pred = clf_gini.predict(test_data)\n",
    "DTree_Gini = model_eval(test_label, clf_gini_pred)\n",
    "print('Desicion Tree using Gini Index : %.2f percent.' % (round(DTree_Gini['accuracy']*100,2)))\n",
    "\n",
    "\n",
    "# Entropy\n",
    "clf_entropy = tree.DecisionTreeClassifier(criterion = 'entropy', min_samples_split = 0.05, min_samples_leaf = 0.001)\n",
    "clf_entropy = clf_entropy.fit(train_data, train_label)\n",
    "clf_entropy_pred = clf_entropy.predict(test_data)\n",
    "DTree_Entropy = model_eval(test_label, clf_entropy_pred)\n",
    "print('Desicion Tree using Entropy : %.2f percent.' % (round(DTree_Entropy['accuracy']*100,2)))\n",
    "\n",
    "\n",
    "#printmd('### 3.1.2. Model Evaulation ')\n",
    "ovl_dtree = round(pd.DataFrame([DTree_Entropy, DTree_Gini], index = ['DTree_Entropy','DTree_Gini']),4)\n",
    "display(ovl_dtree)"
   ]
  },
  {
   "cell_type": "code",
   "execution_count": null,
   "metadata": {},
   "outputs": [],
   "source": [
    "# Plot tree\n",
    "\n",
    "# from sklearn.tree import export_graphviz\n",
    "# from IPython.display import SVG\n",
    "# from graphviz import Source\n",
    "\n",
    "\n",
    "\n",
    "# graph = Source( tree.export_graphviz(clf, out_file=None, feature_names=train_data.columns))\n",
    "\n",
    "# # Display Tree\n",
    "# SVG(graph.pipe(format='svg'))\n",
    "\n",
    "# # Save Tree as PNG\n",
    "# png_bytes = graph.pipe(format='png')\n",
    "# with open('dtree_pipe.png','wb') as f:\n",
    "#     f.write(png_bytes)"
   ]
  },
  {
   "cell_type": "markdown",
   "metadata": {},
   "source": [
    "### 4.2.2. Artificial Neural Network\n",
    "For the ANN classifier, I experimented with the activation function, the solver for weight optimization, regularization term and learning schedule for weight updates. The following values of the parameters attained the best accuracy during classification. Other parameters were neither applicable to the 'adam' solver nor did it improve the performance of the model. Results in the table below.\n",
    "\n",
    "*\t**Activation:** Logistic (Marginally outperformed 'relu', 'tanh' and 'identity' functions.)\n",
    "*   **Solver:** Adam (Works well on relatively large datasets with thousands of training samples or more)\n",
    "*   **Alpha:** 1e-4 (Best amongst 1, 1e-1, 1e-2, 1e-3, 1e-4 and 1e-5)\n",
    "*   **Learning Rate:**  'invscaling' (Gradually decreases the learning rate at each time step 't' using an inverse scaling exponent of 'power_t'.)\n"
   ]
  },
  {
   "cell_type": "code",
   "execution_count": 75,
   "metadata": {},
   "outputs": [
    {
     "name": "stdout",
     "output_type": "stream",
     "text": [
      "ANN using TanH and lbfgs solver : 84.62 percent.\n",
      "ANN using relu and adam solver : 84.87 percent.\n",
      "ANN using logistic and adam solver : 84.99 percent.\n",
      "ANN using identity and adam solver : 84.67 percent.\n"
     ]
    },
    {
     "data": {
      "text/html": [
       "<div>\n",
       "<style scoped>\n",
       "    .dataframe tbody tr th:only-of-type {\n",
       "        vertical-align: middle;\n",
       "    }\n",
       "\n",
       "    .dataframe tbody tr th {\n",
       "        vertical-align: top;\n",
       "    }\n",
       "\n",
       "    .dataframe thead th {\n",
       "        text-align: right;\n",
       "    }\n",
       "</style>\n",
       "<table border=\"1\" class=\"dataframe\">\n",
       "  <thead>\n",
       "    <tr style=\"text-align: right;\">\n",
       "      <th></th>\n",
       "      <th>accuracy</th>\n",
       "      <th>error_rate</th>\n",
       "      <th>f_measure</th>\n",
       "      <th>precision</th>\n",
       "      <th>recall</th>\n",
       "      <th>sensitivity</th>\n",
       "      <th>specificity</th>\n",
       "    </tr>\n",
       "  </thead>\n",
       "  <tbody>\n",
       "    <tr>\n",
       "      <th>ANN_TanH</th>\n",
       "      <td>0.8462</td>\n",
       "      <td>0.1538</td>\n",
       "      <td>0.6570</td>\n",
       "      <td>0.7352</td>\n",
       "      <td>0.5939</td>\n",
       "      <td>0.5939</td>\n",
       "      <td>0.9294</td>\n",
       "    </tr>\n",
       "    <tr>\n",
       "      <th>ANN_relu</th>\n",
       "      <td>0.8487</td>\n",
       "      <td>0.1513</td>\n",
       "      <td>0.6726</td>\n",
       "      <td>0.7263</td>\n",
       "      <td>0.6263</td>\n",
       "      <td>0.6263</td>\n",
       "      <td>0.9221</td>\n",
       "    </tr>\n",
       "    <tr>\n",
       "      <th>ANN_log</th>\n",
       "      <td>0.8499</td>\n",
       "      <td>0.1501</td>\n",
       "      <td>0.6739</td>\n",
       "      <td>0.7307</td>\n",
       "      <td>0.6253</td>\n",
       "      <td>0.6253</td>\n",
       "      <td>0.9240</td>\n",
       "    </tr>\n",
       "    <tr>\n",
       "      <th>ANN_identity</th>\n",
       "      <td>0.8467</td>\n",
       "      <td>0.1533</td>\n",
       "      <td>0.6483</td>\n",
       "      <td>0.7523</td>\n",
       "      <td>0.5695</td>\n",
       "      <td>0.5695</td>\n",
       "      <td>0.9381</td>\n",
       "    </tr>\n",
       "  </tbody>\n",
       "</table>\n",
       "</div>"
      ],
      "text/plain": [
       "              accuracy  error_rate  f_measure  precision  recall  sensitivity  \\\n",
       "ANN_TanH        0.8462      0.1538     0.6570     0.7352  0.5939       0.5939   \n",
       "ANN_relu        0.8487      0.1513     0.6726     0.7263  0.6263       0.6263   \n",
       "ANN_log         0.8499      0.1501     0.6739     0.7307  0.6253       0.6253   \n",
       "ANN_identity    0.8467      0.1533     0.6483     0.7523  0.5695       0.5695   \n",
       "\n",
       "              specificity  \n",
       "ANN_TanH           0.9294  \n",
       "ANN_relu           0.9221  \n",
       "ANN_log            0.9240  \n",
       "ANN_identity       0.9381  "
      ]
     },
     "metadata": {},
     "output_type": "display_data"
    }
   ],
   "source": [
    "# Tan H\n",
    "ann_tanh = MLPClassifier(activation = 'tanh', solver='lbfgs', alpha=1e-1, hidden_layer_sizes=(10, 2), random_state=1, warm_start=True)\n",
    "ann_tanh.fit(train_data, train_label)                         \n",
    "ann_tanh_pred = ann_tanh.predict(test_data)\n",
    "ANN_TanH = model_eval(test_label, ann_tanh_pred)\n",
    "print('ANN using TanH and lbfgs solver : %.2f percent.' % (round(ANN_TanH['accuracy']*100,2)))\n",
    "\n",
    "\n",
    "# Relu\n",
    "ann_relu = MLPClassifier(activation = 'relu', solver='adam', alpha=1e-1, \n",
    "                    hidden_layer_sizes=(5, 2), random_state=1,\n",
    "                    learning_rate  = 'invscaling',\n",
    "                    warm_start = True)\n",
    "ann_relu.fit(train_data, train_label)                         \n",
    "ann_relu_pred = ann_relu.predict(test_data)\n",
    "ANN_relu = model_eval(test_label, ann_relu_pred)\n",
    "print('ANN using relu and adam solver : %.2f percent.' % (round(ANN_relu['accuracy']*100,2)))\n",
    "\n",
    "# Log\n",
    "ann_log = MLPClassifier(activation = 'logistic', solver='adam', \n",
    "                    alpha=1e-4, hidden_layer_sizes=(5, 2),\n",
    "                    learning_rate  = 'invscaling', \n",
    "                    random_state=1, warm_start = True)\n",
    "ann_log.fit(train_data, train_label)                         \n",
    "ann_log_pred = ann_log.predict(test_data)\n",
    "ANN_log = model_eval(test_label, ann_log_pred)\n",
    "print('ANN using logistic and adam solver : %.2f percent.' % (round(ANN_log['accuracy']*100,2)))\n",
    "\n",
    "# Identity\n",
    "ann_identity = MLPClassifier(activation = 'identity', solver='adam', alpha=1e-1, hidden_layer_sizes=(5, 2), random_state=1, warm_start = True)\n",
    "ann_identity.fit(train_data, train_label)                         \n",
    "ann_identity_pred = ann_identity.predict(test_data)\n",
    "ANN_identity = model_eval(test_label, ann_identity_pred)\n",
    "print('ANN using identity and adam solver : %.2f percent.' % (round(ANN_identity['accuracy']*100,2)))\n",
    "\n",
    "#printmd('### 3.2.2. Model Evaulation ')\n",
    "ovl_ann = round(pd.DataFrame([ANN_TanH, ANN_relu, ANN_log, ANN_identity], index = ['ANN_TanH','ANN_relu', 'ANN_log', 'ANN_identity']),4)\n",
    "display(ovl_ann)"
   ]
  },
  {
   "cell_type": "markdown",
   "metadata": {},
   "source": [
    "### 4.2.3. Support Vector Machine\n",
    "For the SVM classifier, I experimented with the various available kernels, the penalty of the error term and the tolerance for stopping criteria. The following values of the parameters attained the best accuracy during classification. Results in the table below.\n",
    "\n",
    "*\t**Kernel:** rbf (Marginally outperformed 'linear, 'poly' and 'sigmoid' kernels.)\n",
    "*\t**C, penalty of the error term:** 1 (Best amongst 0.1, 0.5, 1 and 10)\n",
    "*\t**Tolerance for stopping criteria:** 1e-3 (Best amongst 1e-1, 1e-2, 1e-3, 1e-4 and 1e-5)\n"
   ]
  },
  {
   "cell_type": "code",
   "execution_count": 77,
   "metadata": {},
   "outputs": [
    {
     "name": "stdout",
     "output_type": "stream",
     "text": [
      "SVM using rbf kernel : 84.40 percent.\n",
      "SVM using linear kernel : 84.64 percent.\n",
      "SVM using poly kernel : 82.82 percent.\n",
      "SVM using sigmoid kernel : 80.81 percent.\n"
     ]
    },
    {
     "data": {
      "text/html": [
       "<div>\n",
       "<style scoped>\n",
       "    .dataframe tbody tr th:only-of-type {\n",
       "        vertical-align: middle;\n",
       "    }\n",
       "\n",
       "    .dataframe tbody tr th {\n",
       "        vertical-align: top;\n",
       "    }\n",
       "\n",
       "    .dataframe thead th {\n",
       "        text-align: right;\n",
       "    }\n",
       "</style>\n",
       "<table border=\"1\" class=\"dataframe\">\n",
       "  <thead>\n",
       "    <tr style=\"text-align: right;\">\n",
       "      <th></th>\n",
       "      <th>accuracy</th>\n",
       "      <th>error_rate</th>\n",
       "      <th>f_measure</th>\n",
       "      <th>precision</th>\n",
       "      <th>recall</th>\n",
       "      <th>sensitivity</th>\n",
       "      <th>specificity</th>\n",
       "    </tr>\n",
       "  </thead>\n",
       "  <tbody>\n",
       "    <tr>\n",
       "      <th>SVM_rbf</th>\n",
       "      <td>0.8440</td>\n",
       "      <td>0.1560</td>\n",
       "      <td>0.6465</td>\n",
       "      <td>0.7381</td>\n",
       "      <td>0.5751</td>\n",
       "      <td>0.5751</td>\n",
       "      <td>0.9327</td>\n",
       "    </tr>\n",
       "    <tr>\n",
       "      <th>SVM_linear</th>\n",
       "      <td>0.8464</td>\n",
       "      <td>0.1536</td>\n",
       "      <td>0.6554</td>\n",
       "      <td>0.7387</td>\n",
       "      <td>0.5890</td>\n",
       "      <td>0.5890</td>\n",
       "      <td>0.9313</td>\n",
       "    </tr>\n",
       "    <tr>\n",
       "      <th>SVM_poly</th>\n",
       "      <td>0.8282</td>\n",
       "      <td>0.1718</td>\n",
       "      <td>0.5906</td>\n",
       "      <td>0.7222</td>\n",
       "      <td>0.4995</td>\n",
       "      <td>0.4995</td>\n",
       "      <td>0.9366</td>\n",
       "    </tr>\n",
       "    <tr>\n",
       "      <th>SVM_sigmoid</th>\n",
       "      <td>0.8081</td>\n",
       "      <td>0.1919</td>\n",
       "      <td>0.5871</td>\n",
       "      <td>0.6296</td>\n",
       "      <td>0.5500</td>\n",
       "      <td>0.5500</td>\n",
       "      <td>0.8933</td>\n",
       "    </tr>\n",
       "  </tbody>\n",
       "</table>\n",
       "</div>"
      ],
      "text/plain": [
       "             accuracy  error_rate  f_measure  precision  recall  sensitivity  \\\n",
       "SVM_rbf        0.8440      0.1560     0.6465     0.7381  0.5751       0.5751   \n",
       "SVM_linear     0.8464      0.1536     0.6554     0.7387  0.5890       0.5890   \n",
       "SVM_poly       0.8282      0.1718     0.5906     0.7222  0.4995       0.4995   \n",
       "SVM_sigmoid    0.8081      0.1919     0.5871     0.6296  0.5500       0.5500   \n",
       "\n",
       "             specificity  \n",
       "SVM_rbf           0.9327  \n",
       "SVM_linear        0.9313  \n",
       "SVM_poly          0.9366  \n",
       "SVM_sigmoid       0.8933  "
      ]
     },
     "metadata": {},
     "output_type": "display_data"
    }
   ],
   "source": [
    "# rbf kernal\n",
    "svm_clf_rbf = svm.SVC(kernel = 'rbf', C = 1, tol = 1e-3)\n",
    "svm_clf_rbf.fit(train_data, train_label)\n",
    "svm_clf_rbf_pred = svm_clf_rbf.predict(test_data)\n",
    "SVM_rbf = model_eval(test_label, svm_clf_rbf_pred)\n",
    "print('SVM using rbf kernel : %.2f percent.' % (round(SVM_rbf['accuracy']*100,2)))\n",
    "\n",
    "# Linear kernel\n",
    "svm_clf_linear = svm.SVC(kernel = 'linear')\n",
    "svm_clf_linear.fit(train_data, train_label)\n",
    "svm_clf_linear_pred = svm_clf_linear.predict(test_data)\n",
    "SVM_linear = model_eval(test_label, svm_clf_linear_pred)\n",
    "print('SVM using linear kernel : %.2f percent.' % (round(SVM_linear['accuracy']*100,2)))\n",
    "\n",
    "\n",
    "# Poly kernal\n",
    "svm_clf_poly = svm.SVC(kernel = 'poly')\n",
    "svm_clf_poly.fit(train_data, train_label)\n",
    "svm_clf_poly_pred = svm_clf_poly.predict(test_data)\n",
    "SVM_poly = model_eval(test_label, svm_clf_poly_pred)\n",
    "print('SVM using poly kernel : %.2f percent.' % (round(SVM_poly['accuracy']*100,2)))\n",
    "\n",
    "\n",
    "svm_clf_sigmoid = svm.SVC(kernel = 'sigmoid')\n",
    "svm_clf_sigmoid.fit(train_data, train_label)\n",
    "svm_clf_sigmoid_pred = svm_clf_sigmoid.predict(test_data)\n",
    "SVM_sigmoid = model_eval(test_label, svm_clf_sigmoid_pred)\n",
    "print('SVM using sigmoid kernel : %.2f percent.' % (round(SVM_sigmoid['accuracy']*100,2)))\n",
    "\n",
    "\n",
    "\n",
    "#printmd('### 3.3.2. Model Evaulation ')\n",
    "ovl_svm = round(pd.DataFrame([SVM_rbf, SVM_linear, SVM_poly, SVM_sigmoid], index = ['SVM_rbf','SVM_linear', 'SVM_poly', 'SVM_sigmoid']),4)\n",
    "display(ovl_svm)"
   ]
  },
  {
   "cell_type": "markdown",
   "metadata": {},
   "source": [
    "### 4.2.4. Ensemble Models\n",
    "\n",
    "### 4.2.4.1. Random Forest\n",
    "For the random forests classifier, I experimented with the number of trees, splitting criteria, minimum samples required to split, max depth of the tree, minimum samples required at the leaf level and the maximum features to consider when looking for the best split. The following values of the parameters attained the best accuracy during classification. Results in the table below.\n",
    "\n",
    "*\t**Num estimators:** 100 (Best amongst 10, 50 and 100)\n",
    "*\t**Splitting criteria:** Gini Index (Using Gini Index marginally outperformed Entropy with a higher accuracy.)\n",
    "*\t**Min samples required to split:** 5% (Best amongst 1%, 10% and 5%.)\n",
    "*\t**Max Depth:** None\n",
    "*\t**Min samples required at leaf:**  0.1 % (Best amongst 1%, 5% and 0.1%.)\n",
    "*\t**Max features:** number of features (Performs better than 'auto', 'log2' and 'sqrt'.)\n"
   ]
  },
  {
   "cell_type": "code",
   "execution_count": 78,
   "metadata": {},
   "outputs": [
    {
     "name": "stdout",
     "output_type": "stream",
     "text": [
      "Random Forest using Gini Index : 85.09 percent.\n",
      "Random Forest using Entropy : 85.05 percent.\n"
     ]
    },
    {
     "data": {
      "text/html": [
       "<div>\n",
       "<style scoped>\n",
       "    .dataframe tbody tr th:only-of-type {\n",
       "        vertical-align: middle;\n",
       "    }\n",
       "\n",
       "    .dataframe tbody tr th {\n",
       "        vertical-align: top;\n",
       "    }\n",
       "\n",
       "    .dataframe thead th {\n",
       "        text-align: right;\n",
       "    }\n",
       "</style>\n",
       "<table border=\"1\" class=\"dataframe\">\n",
       "  <thead>\n",
       "    <tr style=\"text-align: right;\">\n",
       "      <th></th>\n",
       "      <th>accuracy</th>\n",
       "      <th>error_rate</th>\n",
       "      <th>f_measure</th>\n",
       "      <th>precision</th>\n",
       "      <th>recall</th>\n",
       "      <th>sensitivity</th>\n",
       "      <th>specificity</th>\n",
       "    </tr>\n",
       "  </thead>\n",
       "  <tbody>\n",
       "    <tr>\n",
       "      <th>rforest_gini</th>\n",
       "      <td>0.8509</td>\n",
       "      <td>0.1491</td>\n",
       "      <td>0.6420</td>\n",
       "      <td>0.7935</td>\n",
       "      <td>0.5391</td>\n",
       "      <td>0.5391</td>\n",
       "      <td>0.9537</td>\n",
       "    </tr>\n",
       "    <tr>\n",
       "      <th>rforest_entropy</th>\n",
       "      <td>0.8505</td>\n",
       "      <td>0.1495</td>\n",
       "      <td>0.6386</td>\n",
       "      <td>0.7973</td>\n",
       "      <td>0.5325</td>\n",
       "      <td>0.5325</td>\n",
       "      <td>0.9553</td>\n",
       "    </tr>\n",
       "  </tbody>\n",
       "</table>\n",
       "</div>"
      ],
      "text/plain": [
       "                 accuracy  error_rate  f_measure  precision  recall  \\\n",
       "rforest_gini       0.8509      0.1491     0.6420     0.7935  0.5391   \n",
       "rforest_entropy    0.8505      0.1495     0.6386     0.7973  0.5325   \n",
       "\n",
       "                 sensitivity  specificity  \n",
       "rforest_gini          0.5391       0.9537  \n",
       "rforest_entropy       0.5325       0.9553  "
      ]
     },
     "metadata": {},
     "output_type": "display_data"
    }
   ],
   "source": [
    "# Gini\n",
    "r_forest_gini = RandomForestClassifier(n_estimators=100, criterion = 'gini', max_features = None,  min_samples_split = 0.05, min_samples_leaf = 0.001)\n",
    "r_forest_gini.fit(train_data, train_label)\n",
    "r_forest_gini_pred = r_forest_gini.predict(test_data)\n",
    "rforest_gini = model_eval(test_label, r_forest_gini_pred)\n",
    "print('Random Forest using Gini Index : %.2f percent.' % (round(rforest_gini['accuracy']*100,2)))\n",
    "\n",
    "# Entropy\n",
    "r_forest_entropy = RandomForestClassifier(n_estimators=100, criterion = 'entropy', max_features = None,  min_samples_split = 0.05, min_samples_leaf = 0.001)\n",
    "r_forest_entropy.fit(train_data, train_label)\n",
    "r_forest_entropy_pred = r_forest_entropy.predict(test_data)\n",
    "rforest_entropy = model_eval(test_label, r_forest_entropy_pred)\n",
    "print('Random Forest using Entropy : %.2f percent.' % (round(rforest_entropy['accuracy']*100,2)))\n",
    "\n",
    "#printmd('### 3.4.1.2. Model Evaulation ')\n",
    "ovl_rf = round(pd.DataFrame([rforest_gini, rforest_entropy], index = ['rforest_gini','rforest_entropy']),4)\n",
    "display(ovl_rf)"
   ]
  },
  {
   "cell_type": "markdown",
   "metadata": {},
   "source": [
    "### 4.2.4.2. Adaboost\n",
    "For the adaboost classifier, I experimented with base estimator from which the boosted ensemble is built and number of estimators. The following values of the parameters attained the best accuracy during classification. Results in the table below.\n",
    "\n",
    "*\t**Base Estimator:** DecisionTreeClassifier\n",
    "*\t**Num estimators:** 100 (Best amongst 10, 50 and 100.)\n"
   ]
  },
  {
   "cell_type": "code",
   "execution_count": 79,
   "metadata": {},
   "outputs": [
    {
     "name": "stdout",
     "output_type": "stream",
     "text": [
      "Adaboost : 86.23 percent.\n"
     ]
    },
    {
     "data": {
      "text/html": [
       "<div>\n",
       "<style scoped>\n",
       "    .dataframe tbody tr th:only-of-type {\n",
       "        vertical-align: middle;\n",
       "    }\n",
       "\n",
       "    .dataframe tbody tr th {\n",
       "        vertical-align: top;\n",
       "    }\n",
       "\n",
       "    .dataframe thead th {\n",
       "        text-align: right;\n",
       "    }\n",
       "</style>\n",
       "<table border=\"1\" class=\"dataframe\">\n",
       "  <thead>\n",
       "    <tr style=\"text-align: right;\">\n",
       "      <th></th>\n",
       "      <th>accuracy</th>\n",
       "      <th>error_rate</th>\n",
       "      <th>f_measure</th>\n",
       "      <th>precision</th>\n",
       "      <th>recall</th>\n",
       "      <th>sensitivity</th>\n",
       "      <th>specificity</th>\n",
       "    </tr>\n",
       "  </thead>\n",
       "  <tbody>\n",
       "    <tr>\n",
       "      <th>adaboost</th>\n",
       "      <td>0.8623</td>\n",
       "      <td>0.1377</td>\n",
       "      <td>0.6892</td>\n",
       "      <td>0.7832</td>\n",
       "      <td>0.6154</td>\n",
       "      <td>0.6154</td>\n",
       "      <td>0.9438</td>\n",
       "    </tr>\n",
       "  </tbody>\n",
       "</table>\n",
       "</div>"
      ],
      "text/plain": [
       "          accuracy  error_rate  f_measure  precision  recall  sensitivity  \\\n",
       "adaboost    0.8623      0.1377     0.6892     0.7832  0.6154       0.6154   \n",
       "\n",
       "          specificity  \n",
       "adaboost       0.9438  "
      ]
     },
     "metadata": {},
     "output_type": "display_data"
    }
   ],
   "source": [
    "ada = AdaBoostClassifier(n_estimators=100)                     \n",
    "ada.fit(train_data, train_label)\n",
    "ada_pred = ada.predict(test_data)\n",
    "adaboost = model_eval(test_label, ada_pred)\n",
    "print('Adaboost : %.2f percent.' % (round(adaboost['accuracy']*100,2)))\n",
    "\n",
    "#printmd('### 3.4.2.2. Model Evaulation ')\n",
    "ovl_ada = round(pd.DataFrame([adaboost], index = ['adaboost']),4)\n",
    "display(ovl_ada)"
   ]
  },
  {
   "cell_type": "markdown",
   "metadata": {},
   "source": [
    "### 4.2.5. Logistic Regression"
   ]
  },
  {
   "cell_type": "code",
   "execution_count": 80,
   "metadata": {},
   "outputs": [
    {
     "name": "stdout",
     "output_type": "stream",
     "text": [
      "Logistic Regression : 84.88 percent.\n"
     ]
    },
    {
     "data": {
      "text/html": [
       "<div>\n",
       "<style scoped>\n",
       "    .dataframe tbody tr th:only-of-type {\n",
       "        vertical-align: middle;\n",
       "    }\n",
       "\n",
       "    .dataframe tbody tr th {\n",
       "        vertical-align: top;\n",
       "    }\n",
       "\n",
       "    .dataframe thead th {\n",
       "        text-align: right;\n",
       "    }\n",
       "</style>\n",
       "<table border=\"1\" class=\"dataframe\">\n",
       "  <thead>\n",
       "    <tr style=\"text-align: right;\">\n",
       "      <th></th>\n",
       "      <th>accuracy</th>\n",
       "      <th>error_rate</th>\n",
       "      <th>f_measure</th>\n",
       "      <th>precision</th>\n",
       "      <th>recall</th>\n",
       "      <th>sensitivity</th>\n",
       "      <th>specificity</th>\n",
       "    </tr>\n",
       "  </thead>\n",
       "  <tbody>\n",
       "    <tr>\n",
       "      <th>logistic_reg</th>\n",
       "      <td>0.8488</td>\n",
       "      <td>0.1512</td>\n",
       "      <td>0.6614</td>\n",
       "      <td>0.7441</td>\n",
       "      <td>0.5952</td>\n",
       "      <td>0.5952</td>\n",
       "      <td>0.9325</td>\n",
       "    </tr>\n",
       "  </tbody>\n",
       "</table>\n",
       "</div>"
      ],
      "text/plain": [
       "              accuracy  error_rate  f_measure  precision  recall  sensitivity  \\\n",
       "logistic_reg    0.8488      0.1512     0.6614     0.7441  0.5952       0.5952   \n",
       "\n",
       "              specificity  \n",
       "logistic_reg       0.9325  "
      ]
     },
     "metadata": {},
     "output_type": "display_data"
    }
   ],
   "source": [
    "log_reg = LogisticRegression(penalty = 'l2', dual = False, tol = 1e-4, fit_intercept = True, \n",
    "                            solver = 'liblinear')\n",
    "log_reg.fit(train_data, train_label)\n",
    "log_reg_pred = log_reg.predict(test_data)\n",
    "logistic_reg = model_eval(test_label, log_reg_pred)\n",
    "print('Logistic Regression : %.2f percent.' % (round(logistic_reg['accuracy']*100,3)))\n",
    "\n",
    "#printmd('### 3.5.2. Model Evaulation ')\n",
    "ovl_logreg = round(pd.DataFrame([logistic_reg], index = ['logistic_reg']),4)\n",
    "display(ovl_logreg)"
   ]
  },
  {
   "cell_type": "markdown",
   "metadata": {},
   "source": [
    "### 4.2.6. k Nearest Neighbours\n",
    "For the K nearest neighbours classifier, I experimented with the num of neighbours values, every odd number ranging from 1 to 50."
   ]
  },
  {
   "cell_type": "code",
   "execution_count": 90,
   "metadata": {},
   "outputs": [
    {
     "data": {
      "text/html": [
       "<div>\n",
       "<style scoped>\n",
       "    .dataframe tbody tr th:only-of-type {\n",
       "        vertical-align: middle;\n",
       "    }\n",
       "\n",
       "    .dataframe tbody tr th {\n",
       "        vertical-align: top;\n",
       "    }\n",
       "\n",
       "    .dataframe thead th {\n",
       "        text-align: right;\n",
       "    }\n",
       "</style>\n",
       "<table border=\"1\" class=\"dataframe\">\n",
       "  <thead>\n",
       "    <tr style=\"text-align: right;\">\n",
       "      <th></th>\n",
       "      <th>accuracy</th>\n",
       "      <th>error_rate</th>\n",
       "      <th>f_measure</th>\n",
       "      <th>k</th>\n",
       "      <th>precision</th>\n",
       "      <th>recall</th>\n",
       "      <th>sensitivity</th>\n",
       "      <th>specificity</th>\n",
       "    </tr>\n",
       "  </thead>\n",
       "  <tbody>\n",
       "    <tr>\n",
       "      <th>0</th>\n",
       "      <td>0.7972</td>\n",
       "      <td>0.2028</td>\n",
       "      <td>0.5825</td>\n",
       "      <td>1</td>\n",
       "      <td>0.5953</td>\n",
       "      <td>0.5702</td>\n",
       "      <td>0.5702</td>\n",
       "      <td>0.8721</td>\n",
       "    </tr>\n",
       "    <tr>\n",
       "      <th>1</th>\n",
       "      <td>0.8160</td>\n",
       "      <td>0.1840</td>\n",
       "      <td>0.6027</td>\n",
       "      <td>3</td>\n",
       "      <td>0.6489</td>\n",
       "      <td>0.5626</td>\n",
       "      <td>0.5626</td>\n",
       "      <td>0.8996</td>\n",
       "    </tr>\n",
       "    <tr>\n",
       "      <th>2</th>\n",
       "      <td>0.8237</td>\n",
       "      <td>0.1763</td>\n",
       "      <td>0.6121</td>\n",
       "      <td>5</td>\n",
       "      <td>0.6737</td>\n",
       "      <td>0.5609</td>\n",
       "      <td>0.5609</td>\n",
       "      <td>0.9104</td>\n",
       "    </tr>\n",
       "    <tr>\n",
       "      <th>3</th>\n",
       "      <td>0.8250</td>\n",
       "      <td>0.1750</td>\n",
       "      <td>0.6121</td>\n",
       "      <td>7</td>\n",
       "      <td>0.6798</td>\n",
       "      <td>0.5566</td>\n",
       "      <td>0.5566</td>\n",
       "      <td>0.9135</td>\n",
       "    </tr>\n",
       "    <tr>\n",
       "      <th>4</th>\n",
       "      <td>0.8262</td>\n",
       "      <td>0.1738</td>\n",
       "      <td>0.6119</td>\n",
       "      <td>9</td>\n",
       "      <td>0.6859</td>\n",
       "      <td>0.5523</td>\n",
       "      <td>0.5523</td>\n",
       "      <td>0.9166</td>\n",
       "    </tr>\n",
       "    <tr>\n",
       "      <th>5</th>\n",
       "      <td>0.8278</td>\n",
       "      <td>0.1722</td>\n",
       "      <td>0.6165</td>\n",
       "      <td>11</td>\n",
       "      <td>0.6887</td>\n",
       "      <td>0.5579</td>\n",
       "      <td>0.5579</td>\n",
       "      <td>0.9168</td>\n",
       "    </tr>\n",
       "    <tr>\n",
       "      <th>6</th>\n",
       "      <td>0.8284</td>\n",
       "      <td>0.1716</td>\n",
       "      <td>0.6128</td>\n",
       "      <td>13</td>\n",
       "      <td>0.6961</td>\n",
       "      <td>0.5474</td>\n",
       "      <td>0.5474</td>\n",
       "      <td>0.9212</td>\n",
       "    </tr>\n",
       "    <tr>\n",
       "      <th>7</th>\n",
       "      <td>0.8286</td>\n",
       "      <td>0.1714</td>\n",
       "      <td>0.6141</td>\n",
       "      <td>15</td>\n",
       "      <td>0.6955</td>\n",
       "      <td>0.5497</td>\n",
       "      <td>0.5497</td>\n",
       "      <td>0.9206</td>\n",
       "    </tr>\n",
       "    <tr>\n",
       "      <th>8</th>\n",
       "      <td>0.8297</td>\n",
       "      <td>0.1703</td>\n",
       "      <td>0.6182</td>\n",
       "      <td>17</td>\n",
       "      <td>0.6966</td>\n",
       "      <td>0.5556</td>\n",
       "      <td>0.5556</td>\n",
       "      <td>0.9202</td>\n",
       "    </tr>\n",
       "    <tr>\n",
       "      <th>9</th>\n",
       "      <td>0.8312</td>\n",
       "      <td>0.1688</td>\n",
       "      <td>0.6211</td>\n",
       "      <td>19</td>\n",
       "      <td>0.7008</td>\n",
       "      <td>0.5576</td>\n",
       "      <td>0.5576</td>\n",
       "      <td>0.9215</td>\n",
       "    </tr>\n",
       "    <tr>\n",
       "      <th>10</th>\n",
       "      <td>0.8312</td>\n",
       "      <td>0.1688</td>\n",
       "      <td>0.6222</td>\n",
       "      <td>21</td>\n",
       "      <td>0.6995</td>\n",
       "      <td>0.5603</td>\n",
       "      <td>0.5603</td>\n",
       "      <td>0.9206</td>\n",
       "    </tr>\n",
       "    <tr>\n",
       "      <th>11</th>\n",
       "      <td>0.8328</td>\n",
       "      <td>0.1672</td>\n",
       "      <td>0.6241</td>\n",
       "      <td>23</td>\n",
       "      <td>0.7054</td>\n",
       "      <td>0.5596</td>\n",
       "      <td>0.5596</td>\n",
       "      <td>0.9229</td>\n",
       "    </tr>\n",
       "    <tr>\n",
       "      <th>12</th>\n",
       "      <td>0.8307</td>\n",
       "      <td>0.1693</td>\n",
       "      <td>0.6190</td>\n",
       "      <td>25</td>\n",
       "      <td>0.7008</td>\n",
       "      <td>0.5543</td>\n",
       "      <td>0.5543</td>\n",
       "      <td>0.9219</td>\n",
       "    </tr>\n",
       "    <tr>\n",
       "      <th>13</th>\n",
       "      <td>0.8314</td>\n",
       "      <td>0.1686</td>\n",
       "      <td>0.6209</td>\n",
       "      <td>27</td>\n",
       "      <td>0.7019</td>\n",
       "      <td>0.5566</td>\n",
       "      <td>0.5566</td>\n",
       "      <td>0.9220</td>\n",
       "    </tr>\n",
       "    <tr>\n",
       "      <th>14</th>\n",
       "      <td>0.8311</td>\n",
       "      <td>0.1689</td>\n",
       "      <td>0.6181</td>\n",
       "      <td>29</td>\n",
       "      <td>0.7039</td>\n",
       "      <td>0.5510</td>\n",
       "      <td>0.5510</td>\n",
       "      <td>0.9235</td>\n",
       "    </tr>\n",
       "    <tr>\n",
       "      <th>15</th>\n",
       "      <td>0.8314</td>\n",
       "      <td>0.1686</td>\n",
       "      <td>0.6174</td>\n",
       "      <td>31</td>\n",
       "      <td>0.7062</td>\n",
       "      <td>0.5484</td>\n",
       "      <td>0.5484</td>\n",
       "      <td>0.9247</td>\n",
       "    </tr>\n",
       "    <tr>\n",
       "      <th>16</th>\n",
       "      <td>0.8324</td>\n",
       "      <td>0.1676</td>\n",
       "      <td>0.6164</td>\n",
       "      <td>33</td>\n",
       "      <td>0.7132</td>\n",
       "      <td>0.5428</td>\n",
       "      <td>0.5428</td>\n",
       "      <td>0.9280</td>\n",
       "    </tr>\n",
       "    <tr>\n",
       "      <th>17</th>\n",
       "      <td>0.8324</td>\n",
       "      <td>0.1676</td>\n",
       "      <td>0.6164</td>\n",
       "      <td>35</td>\n",
       "      <td>0.7132</td>\n",
       "      <td>0.5428</td>\n",
       "      <td>0.5428</td>\n",
       "      <td>0.9280</td>\n",
       "    </tr>\n",
       "    <tr>\n",
       "      <th>18</th>\n",
       "      <td>0.8319</td>\n",
       "      <td>0.1681</td>\n",
       "      <td>0.6134</td>\n",
       "      <td>37</td>\n",
       "      <td>0.7138</td>\n",
       "      <td>0.5378</td>\n",
       "      <td>0.5378</td>\n",
       "      <td>0.9289</td>\n",
       "    </tr>\n",
       "    <tr>\n",
       "      <th>19</th>\n",
       "      <td>0.8318</td>\n",
       "      <td>0.1682</td>\n",
       "      <td>0.6123</td>\n",
       "      <td>39</td>\n",
       "      <td>0.7149</td>\n",
       "      <td>0.5355</td>\n",
       "      <td>0.5355</td>\n",
       "      <td>0.9295</td>\n",
       "    </tr>\n",
       "    <tr>\n",
       "      <th>20</th>\n",
       "      <td>0.8317</td>\n",
       "      <td>0.1683</td>\n",
       "      <td>0.6109</td>\n",
       "      <td>41</td>\n",
       "      <td>0.7163</td>\n",
       "      <td>0.5325</td>\n",
       "      <td>0.5325</td>\n",
       "      <td>0.9304</td>\n",
       "    </tr>\n",
       "    <tr>\n",
       "      <th>21</th>\n",
       "      <td>0.8328</td>\n",
       "      <td>0.1672</td>\n",
       "      <td>0.6127</td>\n",
       "      <td>43</td>\n",
       "      <td>0.7200</td>\n",
       "      <td>0.5332</td>\n",
       "      <td>0.5332</td>\n",
       "      <td>0.9316</td>\n",
       "    </tr>\n",
       "    <tr>\n",
       "      <th>22</th>\n",
       "      <td>0.8305</td>\n",
       "      <td>0.1695</td>\n",
       "      <td>0.6054</td>\n",
       "      <td>45</td>\n",
       "      <td>0.7163</td>\n",
       "      <td>0.5243</td>\n",
       "      <td>0.5243</td>\n",
       "      <td>0.9315</td>\n",
       "    </tr>\n",
       "    <tr>\n",
       "      <th>23</th>\n",
       "      <td>0.8301</td>\n",
       "      <td>0.1699</td>\n",
       "      <td>0.6066</td>\n",
       "      <td>47</td>\n",
       "      <td>0.7124</td>\n",
       "      <td>0.5282</td>\n",
       "      <td>0.5282</td>\n",
       "      <td>0.9296</td>\n",
       "    </tr>\n",
       "    <tr>\n",
       "      <th>24</th>\n",
       "      <td>0.8310</td>\n",
       "      <td>0.1690</td>\n",
       "      <td>0.6072</td>\n",
       "      <td>49</td>\n",
       "      <td>0.7169</td>\n",
       "      <td>0.5266</td>\n",
       "      <td>0.5266</td>\n",
       "      <td>0.9314</td>\n",
       "    </tr>\n",
       "  </tbody>\n",
       "</table>\n",
       "</div>"
      ],
      "text/plain": [
       "    accuracy  error_rate  f_measure   k  precision  recall  sensitivity  \\\n",
       "0     0.7972      0.2028     0.5825   1     0.5953  0.5702       0.5702   \n",
       "1     0.8160      0.1840     0.6027   3     0.6489  0.5626       0.5626   \n",
       "2     0.8237      0.1763     0.6121   5     0.6737  0.5609       0.5609   \n",
       "3     0.8250      0.1750     0.6121   7     0.6798  0.5566       0.5566   \n",
       "4     0.8262      0.1738     0.6119   9     0.6859  0.5523       0.5523   \n",
       "5     0.8278      0.1722     0.6165  11     0.6887  0.5579       0.5579   \n",
       "6     0.8284      0.1716     0.6128  13     0.6961  0.5474       0.5474   \n",
       "7     0.8286      0.1714     0.6141  15     0.6955  0.5497       0.5497   \n",
       "8     0.8297      0.1703     0.6182  17     0.6966  0.5556       0.5556   \n",
       "9     0.8312      0.1688     0.6211  19     0.7008  0.5576       0.5576   \n",
       "10    0.8312      0.1688     0.6222  21     0.6995  0.5603       0.5603   \n",
       "11    0.8328      0.1672     0.6241  23     0.7054  0.5596       0.5596   \n",
       "12    0.8307      0.1693     0.6190  25     0.7008  0.5543       0.5543   \n",
       "13    0.8314      0.1686     0.6209  27     0.7019  0.5566       0.5566   \n",
       "14    0.8311      0.1689     0.6181  29     0.7039  0.5510       0.5510   \n",
       "15    0.8314      0.1686     0.6174  31     0.7062  0.5484       0.5484   \n",
       "16    0.8324      0.1676     0.6164  33     0.7132  0.5428       0.5428   \n",
       "17    0.8324      0.1676     0.6164  35     0.7132  0.5428       0.5428   \n",
       "18    0.8319      0.1681     0.6134  37     0.7138  0.5378       0.5378   \n",
       "19    0.8318      0.1682     0.6123  39     0.7149  0.5355       0.5355   \n",
       "20    0.8317      0.1683     0.6109  41     0.7163  0.5325       0.5325   \n",
       "21    0.8328      0.1672     0.6127  43     0.7200  0.5332       0.5332   \n",
       "22    0.8305      0.1695     0.6054  45     0.7163  0.5243       0.5243   \n",
       "23    0.8301      0.1699     0.6066  47     0.7124  0.5282       0.5282   \n",
       "24    0.8310      0.1690     0.6072  49     0.7169  0.5266       0.5266   \n",
       "\n",
       "    specificity  \n",
       "0        0.8721  \n",
       "1        0.8996  \n",
       "2        0.9104  \n",
       "3        0.9135  \n",
       "4        0.9166  \n",
       "5        0.9168  \n",
       "6        0.9212  \n",
       "7        0.9206  \n",
       "8        0.9202  \n",
       "9        0.9215  \n",
       "10       0.9206  \n",
       "11       0.9229  \n",
       "12       0.9219  \n",
       "13       0.9220  \n",
       "14       0.9235  \n",
       "15       0.9247  \n",
       "16       0.9280  \n",
       "17       0.9280  \n",
       "18       0.9289  \n",
       "19       0.9295  \n",
       "20       0.9304  \n",
       "21       0.9316  \n",
       "22       0.9315  \n",
       "23       0.9296  \n",
       "24       0.9314  "
      ]
     },
     "metadata": {},
     "output_type": "display_data"
    }
   ],
   "source": [
    "from sklearn.neighbors import KNeighborsClassifier\n",
    "knn_outs = []\n",
    "for i in range(1,50,2):\n",
    "    knn = KNeighborsClassifier(n_neighbors=i)\n",
    "    knn.fit(train_data, train_label) \n",
    "    knn_pred = knn.predict(test_data)\n",
    "    knn_perf = model_eval(test_label, knn_pred)\n",
    "    knn_perf['k'] = i\n",
    "    knn_outs.append(knn_perf)\n",
    "\n",
    "ovl_knn = round(pd.DataFrame(knn_outs),4)\n",
    "display(ovl_knn)"
   ]
  },
  {
   "cell_type": "markdown",
   "metadata": {},
   "source": [
    "---\n",
    "# 5. Model Evaluation\n",
    "## 5.1. Overall Performance Statistics"
   ]
  },
  {
   "cell_type": "code",
   "execution_count": 83,
   "metadata": {},
   "outputs": [
    {
     "data": {
      "text/markdown": [
       "Combing the performance statistics of all the model developed, as seen in table below,         we see that the ensemble model Adaboost hast the highest F-measure (0.6833), precision (0.7812)         and accuracy (0.8647). The Artificial neural network models are only marginally being in terms of         accuracy and F-measure. Almost all the model have an accuracy greater than 0.84, expect for two SVM         models. The table below lists the accuracy, error rate, F-measure, precision, recall, sensitivity and         specificity of all the models developed."
      ],
      "text/plain": [
       "<IPython.core.display.Markdown object>"
      ]
     },
     "metadata": {},
     "output_type": "display_data"
    },
    {
     "data": {
      "text/html": [
       "<div>\n",
       "<style scoped>\n",
       "    .dataframe tbody tr th:only-of-type {\n",
       "        vertical-align: middle;\n",
       "    }\n",
       "\n",
       "    .dataframe tbody tr th {\n",
       "        vertical-align: top;\n",
       "    }\n",
       "\n",
       "    .dataframe thead th {\n",
       "        text-align: right;\n",
       "    }\n",
       "</style>\n",
       "<table border=\"1\" class=\"dataframe\">\n",
       "  <thead>\n",
       "    <tr style=\"text-align: right;\">\n",
       "      <th></th>\n",
       "      <th>accuracy</th>\n",
       "      <th>error_rate</th>\n",
       "      <th>f_measure</th>\n",
       "      <th>precision</th>\n",
       "      <th>recall</th>\n",
       "      <th>sensitivity</th>\n",
       "      <th>specificity</th>\n",
       "    </tr>\n",
       "  </thead>\n",
       "  <tbody>\n",
       "    <tr>\n",
       "      <th>adaboost</th>\n",
       "      <td>0.8623</td>\n",
       "      <td>0.1377</td>\n",
       "      <td>0.6892</td>\n",
       "      <td>0.7832</td>\n",
       "      <td>0.6154</td>\n",
       "      <td>0.6154</td>\n",
       "      <td>0.9438</td>\n",
       "    </tr>\n",
       "    <tr>\n",
       "      <th>ANN_log</th>\n",
       "      <td>0.8499</td>\n",
       "      <td>0.1501</td>\n",
       "      <td>0.6739</td>\n",
       "      <td>0.7307</td>\n",
       "      <td>0.6253</td>\n",
       "      <td>0.6253</td>\n",
       "      <td>0.9240</td>\n",
       "    </tr>\n",
       "    <tr>\n",
       "      <th>ANN_relu</th>\n",
       "      <td>0.8487</td>\n",
       "      <td>0.1513</td>\n",
       "      <td>0.6726</td>\n",
       "      <td>0.7263</td>\n",
       "      <td>0.6263</td>\n",
       "      <td>0.6263</td>\n",
       "      <td>0.9221</td>\n",
       "    </tr>\n",
       "    <tr>\n",
       "      <th>logistic_reg</th>\n",
       "      <td>0.8488</td>\n",
       "      <td>0.1512</td>\n",
       "      <td>0.6614</td>\n",
       "      <td>0.7441</td>\n",
       "      <td>0.5952</td>\n",
       "      <td>0.5952</td>\n",
       "      <td>0.9325</td>\n",
       "    </tr>\n",
       "    <tr>\n",
       "      <th>ANN_TanH</th>\n",
       "      <td>0.8462</td>\n",
       "      <td>0.1538</td>\n",
       "      <td>0.6570</td>\n",
       "      <td>0.7352</td>\n",
       "      <td>0.5939</td>\n",
       "      <td>0.5939</td>\n",
       "      <td>0.9294</td>\n",
       "    </tr>\n",
       "    <tr>\n",
       "      <th>SVM_linear</th>\n",
       "      <td>0.8464</td>\n",
       "      <td>0.1536</td>\n",
       "      <td>0.6554</td>\n",
       "      <td>0.7387</td>\n",
       "      <td>0.5890</td>\n",
       "      <td>0.5890</td>\n",
       "      <td>0.9313</td>\n",
       "    </tr>\n",
       "    <tr>\n",
       "      <th>DTree_Gini</th>\n",
       "      <td>0.8492</td>\n",
       "      <td>0.1508</td>\n",
       "      <td>0.6513</td>\n",
       "      <td>0.7634</td>\n",
       "      <td>0.5678</td>\n",
       "      <td>0.5678</td>\n",
       "      <td>0.9420</td>\n",
       "    </tr>\n",
       "    <tr>\n",
       "      <th>ANN_identity</th>\n",
       "      <td>0.8467</td>\n",
       "      <td>0.1533</td>\n",
       "      <td>0.6483</td>\n",
       "      <td>0.7523</td>\n",
       "      <td>0.5695</td>\n",
       "      <td>0.5695</td>\n",
       "      <td>0.9381</td>\n",
       "    </tr>\n",
       "    <tr>\n",
       "      <th>SVM_rbf</th>\n",
       "      <td>0.8440</td>\n",
       "      <td>0.1560</td>\n",
       "      <td>0.6465</td>\n",
       "      <td>0.7381</td>\n",
       "      <td>0.5751</td>\n",
       "      <td>0.5751</td>\n",
       "      <td>0.9327</td>\n",
       "    </tr>\n",
       "    <tr>\n",
       "      <th>DTree_Entropy</th>\n",
       "      <td>0.8490</td>\n",
       "      <td>0.1510</td>\n",
       "      <td>0.6435</td>\n",
       "      <td>0.7765</td>\n",
       "      <td>0.5494</td>\n",
       "      <td>0.5494</td>\n",
       "      <td>0.9478</td>\n",
       "    </tr>\n",
       "    <tr>\n",
       "      <th>rforest_gini</th>\n",
       "      <td>0.8509</td>\n",
       "      <td>0.1491</td>\n",
       "      <td>0.6420</td>\n",
       "      <td>0.7935</td>\n",
       "      <td>0.5391</td>\n",
       "      <td>0.5391</td>\n",
       "      <td>0.9537</td>\n",
       "    </tr>\n",
       "    <tr>\n",
       "      <th>rforest_entropy</th>\n",
       "      <td>0.8505</td>\n",
       "      <td>0.1495</td>\n",
       "      <td>0.6386</td>\n",
       "      <td>0.7973</td>\n",
       "      <td>0.5325</td>\n",
       "      <td>0.5325</td>\n",
       "      <td>0.9553</td>\n",
       "    </tr>\n",
       "    <tr>\n",
       "      <th>SVM_poly</th>\n",
       "      <td>0.8282</td>\n",
       "      <td>0.1718</td>\n",
       "      <td>0.5906</td>\n",
       "      <td>0.7222</td>\n",
       "      <td>0.4995</td>\n",
       "      <td>0.4995</td>\n",
       "      <td>0.9366</td>\n",
       "    </tr>\n",
       "    <tr>\n",
       "      <th>SVM_sigmoid</th>\n",
       "      <td>0.8081</td>\n",
       "      <td>0.1919</td>\n",
       "      <td>0.5871</td>\n",
       "      <td>0.6296</td>\n",
       "      <td>0.5500</td>\n",
       "      <td>0.5500</td>\n",
       "      <td>0.8933</td>\n",
       "    </tr>\n",
       "  </tbody>\n",
       "</table>\n",
       "</div>"
      ],
      "text/plain": [
       "                 accuracy  error_rate  f_measure  precision  recall  \\\n",
       "adaboost           0.8623      0.1377     0.6892     0.7832  0.6154   \n",
       "ANN_log            0.8499      0.1501     0.6739     0.7307  0.6253   \n",
       "ANN_relu           0.8487      0.1513     0.6726     0.7263  0.6263   \n",
       "logistic_reg       0.8488      0.1512     0.6614     0.7441  0.5952   \n",
       "ANN_TanH           0.8462      0.1538     0.6570     0.7352  0.5939   \n",
       "SVM_linear         0.8464      0.1536     0.6554     0.7387  0.5890   \n",
       "DTree_Gini         0.8492      0.1508     0.6513     0.7634  0.5678   \n",
       "ANN_identity       0.8467      0.1533     0.6483     0.7523  0.5695   \n",
       "SVM_rbf            0.8440      0.1560     0.6465     0.7381  0.5751   \n",
       "DTree_Entropy      0.8490      0.1510     0.6435     0.7765  0.5494   \n",
       "rforest_gini       0.8509      0.1491     0.6420     0.7935  0.5391   \n",
       "rforest_entropy    0.8505      0.1495     0.6386     0.7973  0.5325   \n",
       "SVM_poly           0.8282      0.1718     0.5906     0.7222  0.4995   \n",
       "SVM_sigmoid        0.8081      0.1919     0.5871     0.6296  0.5500   \n",
       "\n",
       "                 sensitivity  specificity  \n",
       "adaboost              0.6154       0.9438  \n",
       "ANN_log               0.6253       0.9240  \n",
       "ANN_relu              0.6263       0.9221  \n",
       "logistic_reg          0.5952       0.9325  \n",
       "ANN_TanH              0.5939       0.9294  \n",
       "SVM_linear            0.5890       0.9313  \n",
       "DTree_Gini            0.5678       0.9420  \n",
       "ANN_identity          0.5695       0.9381  \n",
       "SVM_rbf               0.5751       0.9327  \n",
       "DTree_Entropy         0.5494       0.9478  \n",
       "rforest_gini          0.5391       0.9537  \n",
       "rforest_entropy       0.5325       0.9553  \n",
       "SVM_poly              0.4995       0.9366  \n",
       "SVM_sigmoid           0.5500       0.8933  "
      ]
     },
     "metadata": {},
     "output_type": "display_data"
    }
   ],
   "source": [
    "overall_eval = pd.concat([ovl_dtree, ovl_ann, ovl_svm, ovl_rf, ovl_ada, ovl_logreg], axis = 0)\n",
    "overall_eval.sort_values(by = ['f_measure', 'accuracy'], ascending = False, inplace = True)\n",
    "\n",
    "printmd('Combing the performance statistics of all the model developed, as seen in table below, \\\n",
    "        we see that the ensemble model Adaboost hast the highest F-measure (0.6833), precision (0.7812) \\\n",
    "        and accuracy (0.8647). The Artificial neural network models are only marginally being in terms of \\\n",
    "        accuracy and F-measure. Almost all the model have an accuracy greater than 0.84, expect for two SVM \\\n",
    "        models. The table below lists the accuracy, error rate, F-measure, precision, recall, sensitivity and \\\n",
    "        specificity of all the models developed.')\n",
    "\n",
    "display(overall_eval)"
   ]
  },
  {
   "cell_type": "markdown",
   "metadata": {},
   "source": [
    "## 5.2. ROC Curve"
   ]
  },
  {
   "cell_type": "code",
   "execution_count": 84,
   "metadata": {},
   "outputs": [],
   "source": [
    "def generateRoc(test_data, test_label, classifiers, pred_labels, plot_labels, limiter):\n",
    "    \n",
    "    color = ['tab:blue', 'tab:orange', 'tab:green', 'tab:red', 'tab:purple', 'tab:brown', 'tab:pink', 'tab:gray', 'tab:olive', 'tab:cyan']\n",
    "    \n",
    "    y_test = label_binarize(test_label, classes=['<=50K', '>50K'])\n",
    "    plt.figure()\n",
    "    \n",
    "    for i in range(len(classifiers)):\n",
    "        \n",
    "        if plot_labels[i] not in limiter:\n",
    "            continue\n",
    "        \n",
    "        y_score = classifiers[i].predict_proba(test_data)\n",
    "        pos_class_index = list(np.unique(pred_labels[i])).index('>50K')\n",
    "        \n",
    "        fpr, tpr, thres = metrics.roc_curve(y_test.ravel(),y_score[:,pos_class_index], pos_label=1)\n",
    "                               \n",
    "        lw = 2\n",
    "        plt.plot(fpr, tpr, color=color[i % len(color)],lw=lw, label=plot_labels[i])\n",
    "        \n",
    "    plt.plot([0, 1], [0, 1], color='navy', lw=lw, linestyle='--')\n",
    "    plt.xlim([0.0, 1.0])\n",
    "    plt.ylim([0.0, 1.05])\n",
    "    plt.xlabel('False Positive Rate')\n",
    "    plt.ylabel('True Positive Rate')\n",
    "    plt.title('Receiver operating characteristic (ROC)')\n",
    "    plt.legend(loc=\"lower right\")\n",
    "    plt.show()"
   ]
  },
  {
   "cell_type": "code",
   "execution_count": 86,
   "metadata": {
    "scrolled": false
   },
   "outputs": [
    {
     "data": {
      "application/javascript": [
       "/* Put everything inside the global mpl namespace */\n",
       "window.mpl = {};\n",
       "\n",
       "\n",
       "mpl.get_websocket_type = function() {\n",
       "    if (typeof(WebSocket) !== 'undefined') {\n",
       "        return WebSocket;\n",
       "    } else if (typeof(MozWebSocket) !== 'undefined') {\n",
       "        return MozWebSocket;\n",
       "    } else {\n",
       "        alert('Your browser does not have WebSocket support.' +\n",
       "              'Please try Chrome, Safari or Firefox ≥ 6. ' +\n",
       "              'Firefox 4 and 5 are also supported but you ' +\n",
       "              'have to enable WebSockets in about:config.');\n",
       "    };\n",
       "}\n",
       "\n",
       "mpl.figure = function(figure_id, websocket, ondownload, parent_element) {\n",
       "    this.id = figure_id;\n",
       "\n",
       "    this.ws = websocket;\n",
       "\n",
       "    this.supports_binary = (this.ws.binaryType != undefined);\n",
       "\n",
       "    if (!this.supports_binary) {\n",
       "        var warnings = document.getElementById(\"mpl-warnings\");\n",
       "        if (warnings) {\n",
       "            warnings.style.display = 'block';\n",
       "            warnings.textContent = (\n",
       "                \"This browser does not support binary websocket messages. \" +\n",
       "                    \"Performance may be slow.\");\n",
       "        }\n",
       "    }\n",
       "\n",
       "    this.imageObj = new Image();\n",
       "\n",
       "    this.context = undefined;\n",
       "    this.message = undefined;\n",
       "    this.canvas = undefined;\n",
       "    this.rubberband_canvas = undefined;\n",
       "    this.rubberband_context = undefined;\n",
       "    this.format_dropdown = undefined;\n",
       "\n",
       "    this.image_mode = 'full';\n",
       "\n",
       "    this.root = $('<div/>');\n",
       "    this._root_extra_style(this.root)\n",
       "    this.root.attr('style', 'display: inline-block');\n",
       "\n",
       "    $(parent_element).append(this.root);\n",
       "\n",
       "    this._init_header(this);\n",
       "    this._init_canvas(this);\n",
       "    this._init_toolbar(this);\n",
       "\n",
       "    var fig = this;\n",
       "\n",
       "    this.waiting = false;\n",
       "\n",
       "    this.ws.onopen =  function () {\n",
       "            fig.send_message(\"supports_binary\", {value: fig.supports_binary});\n",
       "            fig.send_message(\"send_image_mode\", {});\n",
       "            if (mpl.ratio != 1) {\n",
       "                fig.send_message(\"set_dpi_ratio\", {'dpi_ratio': mpl.ratio});\n",
       "            }\n",
       "            fig.send_message(\"refresh\", {});\n",
       "        }\n",
       "\n",
       "    this.imageObj.onload = function() {\n",
       "            if (fig.image_mode == 'full') {\n",
       "                // Full images could contain transparency (where diff images\n",
       "                // almost always do), so we need to clear the canvas so that\n",
       "                // there is no ghosting.\n",
       "                fig.context.clearRect(0, 0, fig.canvas.width, fig.canvas.height);\n",
       "            }\n",
       "            fig.context.drawImage(fig.imageObj, 0, 0);\n",
       "        };\n",
       "\n",
       "    this.imageObj.onunload = function() {\n",
       "        fig.ws.close();\n",
       "    }\n",
       "\n",
       "    this.ws.onmessage = this._make_on_message_function(this);\n",
       "\n",
       "    this.ondownload = ondownload;\n",
       "}\n",
       "\n",
       "mpl.figure.prototype._init_header = function() {\n",
       "    var titlebar = $(\n",
       "        '<div class=\"ui-dialog-titlebar ui-widget-header ui-corner-all ' +\n",
       "        'ui-helper-clearfix\"/>');\n",
       "    var titletext = $(\n",
       "        '<div class=\"ui-dialog-title\" style=\"width: 100%; ' +\n",
       "        'text-align: center; padding: 3px;\"/>');\n",
       "    titlebar.append(titletext)\n",
       "    this.root.append(titlebar);\n",
       "    this.header = titletext[0];\n",
       "}\n",
       "\n",
       "\n",
       "\n",
       "mpl.figure.prototype._canvas_extra_style = function(canvas_div) {\n",
       "\n",
       "}\n",
       "\n",
       "\n",
       "mpl.figure.prototype._root_extra_style = function(canvas_div) {\n",
       "\n",
       "}\n",
       "\n",
       "mpl.figure.prototype._init_canvas = function() {\n",
       "    var fig = this;\n",
       "\n",
       "    var canvas_div = $('<div/>');\n",
       "\n",
       "    canvas_div.attr('style', 'position: relative; clear: both; outline: 0');\n",
       "\n",
       "    function canvas_keyboard_event(event) {\n",
       "        return fig.key_event(event, event['data']);\n",
       "    }\n",
       "\n",
       "    canvas_div.keydown('key_press', canvas_keyboard_event);\n",
       "    canvas_div.keyup('key_release', canvas_keyboard_event);\n",
       "    this.canvas_div = canvas_div\n",
       "    this._canvas_extra_style(canvas_div)\n",
       "    this.root.append(canvas_div);\n",
       "\n",
       "    var canvas = $('<canvas/>');\n",
       "    canvas.addClass('mpl-canvas');\n",
       "    canvas.attr('style', \"left: 0; top: 0; z-index: 0; outline: 0\")\n",
       "\n",
       "    this.canvas = canvas[0];\n",
       "    this.context = canvas[0].getContext(\"2d\");\n",
       "\n",
       "    var backingStore = this.context.backingStorePixelRatio ||\n",
       "\tthis.context.webkitBackingStorePixelRatio ||\n",
       "\tthis.context.mozBackingStorePixelRatio ||\n",
       "\tthis.context.msBackingStorePixelRatio ||\n",
       "\tthis.context.oBackingStorePixelRatio ||\n",
       "\tthis.context.backingStorePixelRatio || 1;\n",
       "\n",
       "    mpl.ratio = (window.devicePixelRatio || 1) / backingStore;\n",
       "\n",
       "    var rubberband = $('<canvas/>');\n",
       "    rubberband.attr('style', \"position: absolute; left: 0; top: 0; z-index: 1;\")\n",
       "\n",
       "    var pass_mouse_events = true;\n",
       "\n",
       "    canvas_div.resizable({\n",
       "        start: function(event, ui) {\n",
       "            pass_mouse_events = false;\n",
       "        },\n",
       "        resize: function(event, ui) {\n",
       "            fig.request_resize(ui.size.width, ui.size.height);\n",
       "        },\n",
       "        stop: function(event, ui) {\n",
       "            pass_mouse_events = true;\n",
       "            fig.request_resize(ui.size.width, ui.size.height);\n",
       "        },\n",
       "    });\n",
       "\n",
       "    function mouse_event_fn(event) {\n",
       "        if (pass_mouse_events)\n",
       "            return fig.mouse_event(event, event['data']);\n",
       "    }\n",
       "\n",
       "    rubberband.mousedown('button_press', mouse_event_fn);\n",
       "    rubberband.mouseup('button_release', mouse_event_fn);\n",
       "    // Throttle sequential mouse events to 1 every 20ms.\n",
       "    rubberband.mousemove('motion_notify', mouse_event_fn);\n",
       "\n",
       "    rubberband.mouseenter('figure_enter', mouse_event_fn);\n",
       "    rubberband.mouseleave('figure_leave', mouse_event_fn);\n",
       "\n",
       "    canvas_div.on(\"wheel\", function (event) {\n",
       "        event = event.originalEvent;\n",
       "        event['data'] = 'scroll'\n",
       "        if (event.deltaY < 0) {\n",
       "            event.step = 1;\n",
       "        } else {\n",
       "            event.step = -1;\n",
       "        }\n",
       "        mouse_event_fn(event);\n",
       "    });\n",
       "\n",
       "    canvas_div.append(canvas);\n",
       "    canvas_div.append(rubberband);\n",
       "\n",
       "    this.rubberband = rubberband;\n",
       "    this.rubberband_canvas = rubberband[0];\n",
       "    this.rubberband_context = rubberband[0].getContext(\"2d\");\n",
       "    this.rubberband_context.strokeStyle = \"#000000\";\n",
       "\n",
       "    this._resize_canvas = function(width, height) {\n",
       "        // Keep the size of the canvas, canvas container, and rubber band\n",
       "        // canvas in synch.\n",
       "        canvas_div.css('width', width)\n",
       "        canvas_div.css('height', height)\n",
       "\n",
       "        canvas.attr('width', width * mpl.ratio);\n",
       "        canvas.attr('height', height * mpl.ratio);\n",
       "        canvas.attr('style', 'width: ' + width + 'px; height: ' + height + 'px;');\n",
       "\n",
       "        rubberband.attr('width', width);\n",
       "        rubberband.attr('height', height);\n",
       "    }\n",
       "\n",
       "    // Set the figure to an initial 600x600px, this will subsequently be updated\n",
       "    // upon first draw.\n",
       "    this._resize_canvas(600, 600);\n",
       "\n",
       "    // Disable right mouse context menu.\n",
       "    $(this.rubberband_canvas).bind(\"contextmenu\",function(e){\n",
       "        return false;\n",
       "    });\n",
       "\n",
       "    function set_focus () {\n",
       "        canvas.focus();\n",
       "        canvas_div.focus();\n",
       "    }\n",
       "\n",
       "    window.setTimeout(set_focus, 100);\n",
       "}\n",
       "\n",
       "mpl.figure.prototype._init_toolbar = function() {\n",
       "    var fig = this;\n",
       "\n",
       "    var nav_element = $('<div/>')\n",
       "    nav_element.attr('style', 'width: 100%');\n",
       "    this.root.append(nav_element);\n",
       "\n",
       "    // Define a callback function for later on.\n",
       "    function toolbar_event(event) {\n",
       "        return fig.toolbar_button_onclick(event['data']);\n",
       "    }\n",
       "    function toolbar_mouse_event(event) {\n",
       "        return fig.toolbar_button_onmouseover(event['data']);\n",
       "    }\n",
       "\n",
       "    for(var toolbar_ind in mpl.toolbar_items) {\n",
       "        var name = mpl.toolbar_items[toolbar_ind][0];\n",
       "        var tooltip = mpl.toolbar_items[toolbar_ind][1];\n",
       "        var image = mpl.toolbar_items[toolbar_ind][2];\n",
       "        var method_name = mpl.toolbar_items[toolbar_ind][3];\n",
       "\n",
       "        if (!name) {\n",
       "            // put a spacer in here.\n",
       "            continue;\n",
       "        }\n",
       "        var button = $('<button/>');\n",
       "        button.addClass('ui-button ui-widget ui-state-default ui-corner-all ' +\n",
       "                        'ui-button-icon-only');\n",
       "        button.attr('role', 'button');\n",
       "        button.attr('aria-disabled', 'false');\n",
       "        button.click(method_name, toolbar_event);\n",
       "        button.mouseover(tooltip, toolbar_mouse_event);\n",
       "\n",
       "        var icon_img = $('<span/>');\n",
       "        icon_img.addClass('ui-button-icon-primary ui-icon');\n",
       "        icon_img.addClass(image);\n",
       "        icon_img.addClass('ui-corner-all');\n",
       "\n",
       "        var tooltip_span = $('<span/>');\n",
       "        tooltip_span.addClass('ui-button-text');\n",
       "        tooltip_span.html(tooltip);\n",
       "\n",
       "        button.append(icon_img);\n",
       "        button.append(tooltip_span);\n",
       "\n",
       "        nav_element.append(button);\n",
       "    }\n",
       "\n",
       "    var fmt_picker_span = $('<span/>');\n",
       "\n",
       "    var fmt_picker = $('<select/>');\n",
       "    fmt_picker.addClass('mpl-toolbar-option ui-widget ui-widget-content');\n",
       "    fmt_picker_span.append(fmt_picker);\n",
       "    nav_element.append(fmt_picker_span);\n",
       "    this.format_dropdown = fmt_picker[0];\n",
       "\n",
       "    for (var ind in mpl.extensions) {\n",
       "        var fmt = mpl.extensions[ind];\n",
       "        var option = $(\n",
       "            '<option/>', {selected: fmt === mpl.default_extension}).html(fmt);\n",
       "        fmt_picker.append(option)\n",
       "    }\n",
       "\n",
       "    // Add hover states to the ui-buttons\n",
       "    $( \".ui-button\" ).hover(\n",
       "        function() { $(this).addClass(\"ui-state-hover\");},\n",
       "        function() { $(this).removeClass(\"ui-state-hover\");}\n",
       "    );\n",
       "\n",
       "    var status_bar = $('<span class=\"mpl-message\"/>');\n",
       "    nav_element.append(status_bar);\n",
       "    this.message = status_bar[0];\n",
       "}\n",
       "\n",
       "mpl.figure.prototype.request_resize = function(x_pixels, y_pixels) {\n",
       "    // Request matplotlib to resize the figure. Matplotlib will then trigger a resize in the client,\n",
       "    // which will in turn request a refresh of the image.\n",
       "    this.send_message('resize', {'width': x_pixels, 'height': y_pixels});\n",
       "}\n",
       "\n",
       "mpl.figure.prototype.send_message = function(type, properties) {\n",
       "    properties['type'] = type;\n",
       "    properties['figure_id'] = this.id;\n",
       "    this.ws.send(JSON.stringify(properties));\n",
       "}\n",
       "\n",
       "mpl.figure.prototype.send_draw_message = function() {\n",
       "    if (!this.waiting) {\n",
       "        this.waiting = true;\n",
       "        this.ws.send(JSON.stringify({type: \"draw\", figure_id: this.id}));\n",
       "    }\n",
       "}\n",
       "\n",
       "\n",
       "mpl.figure.prototype.handle_save = function(fig, msg) {\n",
       "    var format_dropdown = fig.format_dropdown;\n",
       "    var format = format_dropdown.options[format_dropdown.selectedIndex].value;\n",
       "    fig.ondownload(fig, format);\n",
       "}\n",
       "\n",
       "\n",
       "mpl.figure.prototype.handle_resize = function(fig, msg) {\n",
       "    var size = msg['size'];\n",
       "    if (size[0] != fig.canvas.width || size[1] != fig.canvas.height) {\n",
       "        fig._resize_canvas(size[0], size[1]);\n",
       "        fig.send_message(\"refresh\", {});\n",
       "    };\n",
       "}\n",
       "\n",
       "mpl.figure.prototype.handle_rubberband = function(fig, msg) {\n",
       "    var x0 = msg['x0'] / mpl.ratio;\n",
       "    var y0 = (fig.canvas.height - msg['y0']) / mpl.ratio;\n",
       "    var x1 = msg['x1'] / mpl.ratio;\n",
       "    var y1 = (fig.canvas.height - msg['y1']) / mpl.ratio;\n",
       "    x0 = Math.floor(x0) + 0.5;\n",
       "    y0 = Math.floor(y0) + 0.5;\n",
       "    x1 = Math.floor(x1) + 0.5;\n",
       "    y1 = Math.floor(y1) + 0.5;\n",
       "    var min_x = Math.min(x0, x1);\n",
       "    var min_y = Math.min(y0, y1);\n",
       "    var width = Math.abs(x1 - x0);\n",
       "    var height = Math.abs(y1 - y0);\n",
       "\n",
       "    fig.rubberband_context.clearRect(\n",
       "        0, 0, fig.canvas.width, fig.canvas.height);\n",
       "\n",
       "    fig.rubberband_context.strokeRect(min_x, min_y, width, height);\n",
       "}\n",
       "\n",
       "mpl.figure.prototype.handle_figure_label = function(fig, msg) {\n",
       "    // Updates the figure title.\n",
       "    fig.header.textContent = msg['label'];\n",
       "}\n",
       "\n",
       "mpl.figure.prototype.handle_cursor = function(fig, msg) {\n",
       "    var cursor = msg['cursor'];\n",
       "    switch(cursor)\n",
       "    {\n",
       "    case 0:\n",
       "        cursor = 'pointer';\n",
       "        break;\n",
       "    case 1:\n",
       "        cursor = 'default';\n",
       "        break;\n",
       "    case 2:\n",
       "        cursor = 'crosshair';\n",
       "        break;\n",
       "    case 3:\n",
       "        cursor = 'move';\n",
       "        break;\n",
       "    }\n",
       "    fig.rubberband_canvas.style.cursor = cursor;\n",
       "}\n",
       "\n",
       "mpl.figure.prototype.handle_message = function(fig, msg) {\n",
       "    fig.message.textContent = msg['message'];\n",
       "}\n",
       "\n",
       "mpl.figure.prototype.handle_draw = function(fig, msg) {\n",
       "    // Request the server to send over a new figure.\n",
       "    fig.send_draw_message();\n",
       "}\n",
       "\n",
       "mpl.figure.prototype.handle_image_mode = function(fig, msg) {\n",
       "    fig.image_mode = msg['mode'];\n",
       "}\n",
       "\n",
       "mpl.figure.prototype.updated_canvas_event = function() {\n",
       "    // Called whenever the canvas gets updated.\n",
       "    this.send_message(\"ack\", {});\n",
       "}\n",
       "\n",
       "// A function to construct a web socket function for onmessage handling.\n",
       "// Called in the figure constructor.\n",
       "mpl.figure.prototype._make_on_message_function = function(fig) {\n",
       "    return function socket_on_message(evt) {\n",
       "        if (evt.data instanceof Blob) {\n",
       "            /* FIXME: We get \"Resource interpreted as Image but\n",
       "             * transferred with MIME type text/plain:\" errors on\n",
       "             * Chrome.  But how to set the MIME type?  It doesn't seem\n",
       "             * to be part of the websocket stream */\n",
       "            evt.data.type = \"image/png\";\n",
       "\n",
       "            /* Free the memory for the previous frames */\n",
       "            if (fig.imageObj.src) {\n",
       "                (window.URL || window.webkitURL).revokeObjectURL(\n",
       "                    fig.imageObj.src);\n",
       "            }\n",
       "\n",
       "            fig.imageObj.src = (window.URL || window.webkitURL).createObjectURL(\n",
       "                evt.data);\n",
       "            fig.updated_canvas_event();\n",
       "            fig.waiting = false;\n",
       "            return;\n",
       "        }\n",
       "        else if (typeof evt.data === 'string' && evt.data.slice(0, 21) == \"data:image/png;base64\") {\n",
       "            fig.imageObj.src = evt.data;\n",
       "            fig.updated_canvas_event();\n",
       "            fig.waiting = false;\n",
       "            return;\n",
       "        }\n",
       "\n",
       "        var msg = JSON.parse(evt.data);\n",
       "        var msg_type = msg['type'];\n",
       "\n",
       "        // Call the  \"handle_{type}\" callback, which takes\n",
       "        // the figure and JSON message as its only arguments.\n",
       "        try {\n",
       "            var callback = fig[\"handle_\" + msg_type];\n",
       "        } catch (e) {\n",
       "            console.log(\"No handler for the '\" + msg_type + \"' message type: \", msg);\n",
       "            return;\n",
       "        }\n",
       "\n",
       "        if (callback) {\n",
       "            try {\n",
       "                // console.log(\"Handling '\" + msg_type + \"' message: \", msg);\n",
       "                callback(fig, msg);\n",
       "            } catch (e) {\n",
       "                console.log(\"Exception inside the 'handler_\" + msg_type + \"' callback:\", e, e.stack, msg);\n",
       "            }\n",
       "        }\n",
       "    };\n",
       "}\n",
       "\n",
       "// from http://stackoverflow.com/questions/1114465/getting-mouse-location-in-canvas\n",
       "mpl.findpos = function(e) {\n",
       "    //this section is from http://www.quirksmode.org/js/events_properties.html\n",
       "    var targ;\n",
       "    if (!e)\n",
       "        e = window.event;\n",
       "    if (e.target)\n",
       "        targ = e.target;\n",
       "    else if (e.srcElement)\n",
       "        targ = e.srcElement;\n",
       "    if (targ.nodeType == 3) // defeat Safari bug\n",
       "        targ = targ.parentNode;\n",
       "\n",
       "    // jQuery normalizes the pageX and pageY\n",
       "    // pageX,Y are the mouse positions relative to the document\n",
       "    // offset() returns the position of the element relative to the document\n",
       "    var x = e.pageX - $(targ).offset().left;\n",
       "    var y = e.pageY - $(targ).offset().top;\n",
       "\n",
       "    return {\"x\": x, \"y\": y};\n",
       "};\n",
       "\n",
       "/*\n",
       " * return a copy of an object with only non-object keys\n",
       " * we need this to avoid circular references\n",
       " * http://stackoverflow.com/a/24161582/3208463\n",
       " */\n",
       "function simpleKeys (original) {\n",
       "  return Object.keys(original).reduce(function (obj, key) {\n",
       "    if (typeof original[key] !== 'object')\n",
       "        obj[key] = original[key]\n",
       "    return obj;\n",
       "  }, {});\n",
       "}\n",
       "\n",
       "mpl.figure.prototype.mouse_event = function(event, name) {\n",
       "    var canvas_pos = mpl.findpos(event)\n",
       "\n",
       "    if (name === 'button_press')\n",
       "    {\n",
       "        this.canvas.focus();\n",
       "        this.canvas_div.focus();\n",
       "    }\n",
       "\n",
       "    var x = canvas_pos.x * mpl.ratio;\n",
       "    var y = canvas_pos.y * mpl.ratio;\n",
       "\n",
       "    this.send_message(name, {x: x, y: y, button: event.button,\n",
       "                             step: event.step,\n",
       "                             guiEvent: simpleKeys(event)});\n",
       "\n",
       "    /* This prevents the web browser from automatically changing to\n",
       "     * the text insertion cursor when the button is pressed.  We want\n",
       "     * to control all of the cursor setting manually through the\n",
       "     * 'cursor' event from matplotlib */\n",
       "    event.preventDefault();\n",
       "    return false;\n",
       "}\n",
       "\n",
       "mpl.figure.prototype._key_event_extra = function(event, name) {\n",
       "    // Handle any extra behaviour associated with a key event\n",
       "}\n",
       "\n",
       "mpl.figure.prototype.key_event = function(event, name) {\n",
       "\n",
       "    // Prevent repeat events\n",
       "    if (name == 'key_press')\n",
       "    {\n",
       "        if (event.which === this._key)\n",
       "            return;\n",
       "        else\n",
       "            this._key = event.which;\n",
       "    }\n",
       "    if (name == 'key_release')\n",
       "        this._key = null;\n",
       "\n",
       "    var value = '';\n",
       "    if (event.ctrlKey && event.which != 17)\n",
       "        value += \"ctrl+\";\n",
       "    if (event.altKey && event.which != 18)\n",
       "        value += \"alt+\";\n",
       "    if (event.shiftKey && event.which != 16)\n",
       "        value += \"shift+\";\n",
       "\n",
       "    value += 'k';\n",
       "    value += event.which.toString();\n",
       "\n",
       "    this._key_event_extra(event, name);\n",
       "\n",
       "    this.send_message(name, {key: value,\n",
       "                             guiEvent: simpleKeys(event)});\n",
       "    return false;\n",
       "}\n",
       "\n",
       "mpl.figure.prototype.toolbar_button_onclick = function(name) {\n",
       "    if (name == 'download') {\n",
       "        this.handle_save(this, null);\n",
       "    } else {\n",
       "        this.send_message(\"toolbar_button\", {name: name});\n",
       "    }\n",
       "};\n",
       "\n",
       "mpl.figure.prototype.toolbar_button_onmouseover = function(tooltip) {\n",
       "    this.message.textContent = tooltip;\n",
       "};\n",
       "mpl.toolbar_items = [[\"Home\", \"Reset original view\", \"fa fa-home icon-home\", \"home\"], [\"Back\", \"Back to  previous view\", \"fa fa-arrow-left icon-arrow-left\", \"back\"], [\"Forward\", \"Forward to next view\", \"fa fa-arrow-right icon-arrow-right\", \"forward\"], [\"\", \"\", \"\", \"\"], [\"Pan\", \"Pan axes with left mouse, zoom with right\", \"fa fa-arrows icon-move\", \"pan\"], [\"Zoom\", \"Zoom to rectangle\", \"fa fa-square-o icon-check-empty\", \"zoom\"], [\"\", \"\", \"\", \"\"], [\"Download\", \"Download plot\", \"fa fa-floppy-o icon-save\", \"download\"]];\n",
       "\n",
       "mpl.extensions = [\"eps\", \"jpeg\", \"pdf\", \"png\", \"ps\", \"raw\", \"svg\", \"tif\"];\n",
       "\n",
       "mpl.default_extension = \"png\";var comm_websocket_adapter = function(comm) {\n",
       "    // Create a \"websocket\"-like object which calls the given IPython comm\n",
       "    // object with the appropriate methods. Currently this is a non binary\n",
       "    // socket, so there is still some room for performance tuning.\n",
       "    var ws = {};\n",
       "\n",
       "    ws.close = function() {\n",
       "        comm.close()\n",
       "    };\n",
       "    ws.send = function(m) {\n",
       "        //console.log('sending', m);\n",
       "        comm.send(m);\n",
       "    };\n",
       "    // Register the callback with on_msg.\n",
       "    comm.on_msg(function(msg) {\n",
       "        //console.log('receiving', msg['content']['data'], msg);\n",
       "        // Pass the mpl event to the overriden (by mpl) onmessage function.\n",
       "        ws.onmessage(msg['content']['data'])\n",
       "    });\n",
       "    return ws;\n",
       "}\n",
       "\n",
       "mpl.mpl_figure_comm = function(comm, msg) {\n",
       "    // This is the function which gets called when the mpl process\n",
       "    // starts-up an IPython Comm through the \"matplotlib\" channel.\n",
       "\n",
       "    var id = msg.content.data.id;\n",
       "    // Get hold of the div created by the display call when the Comm\n",
       "    // socket was opened in Python.\n",
       "    var element = $(\"#\" + id);\n",
       "    var ws_proxy = comm_websocket_adapter(comm)\n",
       "\n",
       "    function ondownload(figure, format) {\n",
       "        window.open(figure.imageObj.src);\n",
       "    }\n",
       "\n",
       "    var fig = new mpl.figure(id, ws_proxy,\n",
       "                           ondownload,\n",
       "                           element.get(0));\n",
       "\n",
       "    // Call onopen now - mpl needs it, as it is assuming we've passed it a real\n",
       "    // web socket which is closed, not our websocket->open comm proxy.\n",
       "    ws_proxy.onopen();\n",
       "\n",
       "    fig.parent_element = element.get(0);\n",
       "    fig.cell_info = mpl.find_output_cell(\"<div id='\" + id + \"'></div>\");\n",
       "    if (!fig.cell_info) {\n",
       "        console.error(\"Failed to find cell for figure\", id, fig);\n",
       "        return;\n",
       "    }\n",
       "\n",
       "    var output_index = fig.cell_info[2]\n",
       "    var cell = fig.cell_info[0];\n",
       "\n",
       "};\n",
       "\n",
       "mpl.figure.prototype.handle_close = function(fig, msg) {\n",
       "    var width = fig.canvas.width/mpl.ratio\n",
       "    fig.root.unbind('remove')\n",
       "\n",
       "    // Update the output cell to use the data from the current canvas.\n",
       "    fig.push_to_output();\n",
       "    var dataURL = fig.canvas.toDataURL();\n",
       "    // Re-enable the keyboard manager in IPython - without this line, in FF,\n",
       "    // the notebook keyboard shortcuts fail.\n",
       "    IPython.keyboard_manager.enable()\n",
       "    $(fig.parent_element).html('<img src=\"' + dataURL + '\" width=\"' + width + '\">');\n",
       "    fig.close_ws(fig, msg);\n",
       "}\n",
       "\n",
       "mpl.figure.prototype.close_ws = function(fig, msg){\n",
       "    fig.send_message('closing', msg);\n",
       "    // fig.ws.close()\n",
       "}\n",
       "\n",
       "mpl.figure.prototype.push_to_output = function(remove_interactive) {\n",
       "    // Turn the data on the canvas into data in the output cell.\n",
       "    var width = this.canvas.width/mpl.ratio\n",
       "    var dataURL = this.canvas.toDataURL();\n",
       "    this.cell_info[1]['text/html'] = '<img src=\"' + dataURL + '\" width=\"' + width + '\">';\n",
       "}\n",
       "\n",
       "mpl.figure.prototype.updated_canvas_event = function() {\n",
       "    // Tell IPython that the notebook contents must change.\n",
       "    IPython.notebook.set_dirty(true);\n",
       "    this.send_message(\"ack\", {});\n",
       "    var fig = this;\n",
       "    // Wait a second, then push the new image to the DOM so\n",
       "    // that it is saved nicely (might be nice to debounce this).\n",
       "    setTimeout(function () { fig.push_to_output() }, 1000);\n",
       "}\n",
       "\n",
       "mpl.figure.prototype._init_toolbar = function() {\n",
       "    var fig = this;\n",
       "\n",
       "    var nav_element = $('<div/>')\n",
       "    nav_element.attr('style', 'width: 100%');\n",
       "    this.root.append(nav_element);\n",
       "\n",
       "    // Define a callback function for later on.\n",
       "    function toolbar_event(event) {\n",
       "        return fig.toolbar_button_onclick(event['data']);\n",
       "    }\n",
       "    function toolbar_mouse_event(event) {\n",
       "        return fig.toolbar_button_onmouseover(event['data']);\n",
       "    }\n",
       "\n",
       "    for(var toolbar_ind in mpl.toolbar_items){\n",
       "        var name = mpl.toolbar_items[toolbar_ind][0];\n",
       "        var tooltip = mpl.toolbar_items[toolbar_ind][1];\n",
       "        var image = mpl.toolbar_items[toolbar_ind][2];\n",
       "        var method_name = mpl.toolbar_items[toolbar_ind][3];\n",
       "\n",
       "        if (!name) { continue; };\n",
       "\n",
       "        var button = $('<button class=\"btn btn-default\" href=\"#\" title=\"' + name + '\"><i class=\"fa ' + image + ' fa-lg\"></i></button>');\n",
       "        button.click(method_name, toolbar_event);\n",
       "        button.mouseover(tooltip, toolbar_mouse_event);\n",
       "        nav_element.append(button);\n",
       "    }\n",
       "\n",
       "    // Add the status bar.\n",
       "    var status_bar = $('<span class=\"mpl-message\" style=\"text-align:right; float: right;\"/>');\n",
       "    nav_element.append(status_bar);\n",
       "    this.message = status_bar[0];\n",
       "\n",
       "    // Add the close button to the window.\n",
       "    var buttongrp = $('<div class=\"btn-group inline pull-right\"></div>');\n",
       "    var button = $('<button class=\"btn btn-mini btn-primary\" href=\"#\" title=\"Stop Interaction\"><i class=\"fa fa-power-off icon-remove icon-large\"></i></button>');\n",
       "    button.click(function (evt) { fig.handle_close(fig, {}); } );\n",
       "    button.mouseover('Stop Interaction', toolbar_mouse_event);\n",
       "    buttongrp.append(button);\n",
       "    var titlebar = this.root.find($('.ui-dialog-titlebar'));\n",
       "    titlebar.prepend(buttongrp);\n",
       "}\n",
       "\n",
       "mpl.figure.prototype._root_extra_style = function(el){\n",
       "    var fig = this\n",
       "    el.on(\"remove\", function(){\n",
       "\tfig.close_ws(fig, {});\n",
       "    });\n",
       "}\n",
       "\n",
       "mpl.figure.prototype._canvas_extra_style = function(el){\n",
       "    // this is important to make the div 'focusable\n",
       "    el.attr('tabindex', 0)\n",
       "    // reach out to IPython and tell the keyboard manager to turn it's self\n",
       "    // off when our div gets focus\n",
       "\n",
       "    // location in version 3\n",
       "    if (IPython.notebook.keyboard_manager) {\n",
       "        IPython.notebook.keyboard_manager.register_events(el);\n",
       "    }\n",
       "    else {\n",
       "        // location in version 2\n",
       "        IPython.keyboard_manager.register_events(el);\n",
       "    }\n",
       "\n",
       "}\n",
       "\n",
       "mpl.figure.prototype._key_event_extra = function(event, name) {\n",
       "    var manager = IPython.notebook.keyboard_manager;\n",
       "    if (!manager)\n",
       "        manager = IPython.keyboard_manager;\n",
       "\n",
       "    // Check for shift+enter\n",
       "    if (event.shiftKey && event.which == 13) {\n",
       "        this.canvas_div.blur();\n",
       "        event.shiftKey = false;\n",
       "        // Send a \"J\" for go to next cell\n",
       "        event.which = 74;\n",
       "        event.keyCode = 74;\n",
       "        manager.command_mode();\n",
       "        manager.handle_keydown(event);\n",
       "    }\n",
       "}\n",
       "\n",
       "mpl.figure.prototype.handle_save = function(fig, msg) {\n",
       "    fig.ondownload(fig, null);\n",
       "}\n",
       "\n",
       "\n",
       "mpl.find_output_cell = function(html_output) {\n",
       "    // Return the cell and output element which can be found *uniquely* in the notebook.\n",
       "    // Note - this is a bit hacky, but it is done because the \"notebook_saving.Notebook\"\n",
       "    // IPython event is triggered only after the cells have been serialised, which for\n",
       "    // our purposes (turning an active figure into a static one), is too late.\n",
       "    var cells = IPython.notebook.get_cells();\n",
       "    var ncells = cells.length;\n",
       "    for (var i=0; i<ncells; i++) {\n",
       "        var cell = cells[i];\n",
       "        if (cell.cell_type === 'code'){\n",
       "            for (var j=0; j<cell.output_area.outputs.length; j++) {\n",
       "                var data = cell.output_area.outputs[j];\n",
       "                if (data.data) {\n",
       "                    // IPython >= 3 moved mimebundle to data attribute of output\n",
       "                    data = data.data;\n",
       "                }\n",
       "                if (data['text/html'] == html_output) {\n",
       "                    return [cell, data, j];\n",
       "                }\n",
       "            }\n",
       "        }\n",
       "    }\n",
       "}\n",
       "\n",
       "// Register the function which deals with the matplotlib target/channel.\n",
       "// The kernel may be null if the page has been refreshed.\n",
       "if (IPython.notebook.kernel != null) {\n",
       "    IPython.notebook.kernel.comm_manager.register_target('matplotlib', mpl.mpl_figure_comm);\n",
       "}\n"
      ],
      "text/plain": [
       "<IPython.core.display.Javascript object>"
      ]
     },
     "metadata": {},
     "output_type": "display_data"
    },
    {
     "data": {
      "text/html": [
       "<img src=\"data:image/png;base64,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\" width=\"432\">"
      ],
      "text/plain": [
       "<IPython.core.display.HTML object>"
      ]
     },
     "metadata": {},
     "output_type": "display_data"
    }
   ],
   "source": [
    "%matplotlib notebook\n",
    "classifier_list = [clf_gini\n",
    "                ,clf_entropy\n",
    "                ,ann_tanh\n",
    "                ,ann_relu\n",
    "                ,ann_log\n",
    "                ,ann_identity\n",
    "#                 ,svm_clf_rbf\n",
    "#                 ,svm_clf_linear\n",
    "#                 ,svm_clf_poly\n",
    "#                 ,svm_clf_sigmoid\n",
    "                ,r_forest_gini\n",
    "                ,r_forest_entropy\n",
    "                ,ada\n",
    "                ,log_reg\n",
    "                ] \n",
    "pred_list = [clf_gini_pred\n",
    "            ,clf_entropy_pred\n",
    "            ,ann_tanh_pred\n",
    "            ,ann_relu_pred\n",
    "            ,ann_log_pred\n",
    "            ,ann_identity_pred\n",
    "#             ,svm_clf_rbf_pred\n",
    "#             ,svm_clf_linear_pred\n",
    "#             ,svm_clf_poly_pred\n",
    "#             ,svm_clf_sigmoid_pred\n",
    "            ,r_forest_gini_pred\n",
    "            ,r_forest_entropy_pred\n",
    "            ,ada_pred\n",
    "            ,log_reg_pred\n",
    "            ]\n",
    "\n",
    "clf_labels = ['DTree Gini'\n",
    "            ,'DTree Entropy'\n",
    "            ,'ANN TanH'\n",
    "            ,'ANN relu'\n",
    "            ,'ANN Logistic'\n",
    "            ,'ANN Identity'\n",
    "#             ,svm_clf_rbf_pred\n",
    "#             ,svm_clf_linear_pred\n",
    "#             ,svm_clf_poly_pred\n",
    "#             ,svm_clf_sigmoid_pred\n",
    "            ,'RForest Gini'\n",
    "            ,'RForest Entropy'\n",
    "            ,'Adaboost'\n",
    "            ,'Logistic Regression'\n",
    "            ]\n",
    "\n",
    "limiter = ['Adaboost', 'ANN TanH', 'ANN relu', 'ANN Logistic', 'Logistic Regression']\n",
    "generateRoc(test_data, test_label, classifier_list, pred_list, clf_labels, limiter)"
   ]
  },
  {
   "cell_type": "markdown",
   "metadata": {},
   "source": [
    "The plot above of the receiver operating characteristic curve for the top 5 models; Adaboost, ANN with logistics activation function, ANN with relu activation function, ANN with tanH activation function and logistic regression model. I chose to plot only the top 5 models as the ROC curves of most of the models overlap and the it is not easy to interpret the curve. \n",
    "\n",
    "From figure, we can see that the ROC curve of the Adaboost model has the highest lift and is closest to the top left corner (TPR of 1 and FPR of 0) of the plot. The Adaboost model's curve clearly separates itself from the ROC curves of the other 4 models, which overlap with each other. "
   ]
  },
  {
   "cell_type": "markdown",
   "metadata": {},
   "source": [
    "---\n",
    "# 5. Conclusion"
   ]
  },
  {
   "cell_type": "markdown",
   "metadata": {},
   "source": [
    "I choose **Adaboost** model as my preferred my approach. The Adaboost model not only has the **highest accuracy**, but also has the **highest precision and F-measure** of all the models developed as a part of this analysis. The advantages of using Adaboost over other models is that they are very simple to implement. Since they are made up of weak individual learners, they are less susceptible to overfitting. However, Adaboost is sensitive to noisy data and outliers. \n"
   ]
  }
 ],
 "metadata": {
  "kernelspec": {
   "display_name": "Python pytorch",
   "language": "python",
   "name": "pytorch"
  },
  "language_info": {
   "codemirror_mode": {
    "name": "ipython",
    "version": 3
   },
   "file_extension": ".py",
   "mimetype": "text/x-python",
   "name": "python",
   "nbconvert_exporter": "python",
   "pygments_lexer": "ipython3",
   "version": "3.8.3"
  }
 },
 "nbformat": 4,
 "nbformat_minor": 2
}
